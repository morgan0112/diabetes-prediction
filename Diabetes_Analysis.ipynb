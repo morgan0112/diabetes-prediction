{
  "nbformat": 4,
  "nbformat_minor": 0,
  "metadata": {
    "kernelspec": {
      "display_name": "Python 3",
      "language": "python",
      "name": "python3"
    },
    "language_info": {
      "codemirror_mode": {
        "name": "ipython",
        "version": 3
      },
      "file_extension": ".py",
      "mimetype": "text/x-python",
      "name": "python",
      "nbconvert_exporter": "python",
      "pygments_lexer": "ipython3",
      "version": "3.8.5"
    },
    "colab": {
      "name": "Diabetes_Analysis.ipynb",
      "provenance": [],
      "collapsed_sections": []
    }
  },
  "cells": [
    {
      "cell_type": "markdown",
      "source": [
        "# Diabetes Analysis\n",
        "----\n",
        "Diabetes mellitus is a leading cause of mortality and reduced life expectancy. \n",
        "\n",
        "Our aim is to assist medical professionals in early predictions of the disease in patients by using and analysing medical health records.\n",
        "\n",
        "To achieve this, machine learning will be used to find patterns to detect early signs of diabetes."
      ],
      "metadata": {
        "id": "6a1_-4sn-qxx"
      }
    },
    {
      "cell_type": "markdown",
      "source": [
        "## What is Diabetes?\n",
        "-----\n",
        "Diabetes is a disease that occurs when your blood glucose, also called blood sugar, is too high. Blood glucose is your main source of energy and comes from the food you eat. Insulin, a hormone made by the pancreas, helps glucose from food get into your cells to be used for energy. Sometimes your body doesn’t make enough—or any—insulin or doesn’t use insulin well. Glucose then stays in your blood and doesn’t reach your cells."
      ],
      "metadata": {
        "id": "w8MWbi5b-7rt"
      }
    },
    {
      "cell_type": "markdown",
      "source": [
        "## Import Required Packages\n",
        "----"
      ],
      "metadata": {
        "id": "ExpBTLqdBq3l"
      }
    },
    {
      "cell_type": "markdown",
      "source": [
        "Firstly, we need to install river. \n",
        "\n",
        "River is an online machine learning library, meaning that it contains models that can be trained continuously in production. If changes in the data occurs, the model is capable of adapting."
      ],
      "metadata": {
        "id": "3nDaqqoXByFk"
      }
    },
    {
      "cell_type": "code",
      "metadata": {
        "colab": {
          "base_uri": "https://localhost:8080/"
        },
        "id": "PjcHX1G8Zuzi",
        "outputId": "e3c3cfa9-b67d-413a-e0e3-b14e845cd1d6"
      },
      "source": [
        "!pip install river"
      ],
      "execution_count": null,
      "outputs": [
        {
          "output_type": "stream",
          "name": "stdout",
          "text": [
            "Collecting river\n",
            "  Downloading river-0.9.0-cp37-cp37m-manylinux_2_5_x86_64.manylinux1_x86_64.manylinux_2_17_x86_64.manylinux2014_x86_64.whl (2.5 MB)\n",
            "\u001b[K     |████████████████████████████████| 2.5 MB 28.1 MB/s \n",
            "\u001b[?25hRequirement already satisfied: scipy>=1.4.1 in /usr/local/lib/python3.7/dist-packages (from river) (1.4.1)\n",
            "Requirement already satisfied: pandas>=1.0.1 in /usr/local/lib/python3.7/dist-packages (from river) (1.1.5)\n",
            "Requirement already satisfied: numpy>=1.18.1 in /usr/local/lib/python3.7/dist-packages (from river) (1.19.5)\n",
            "Requirement already satisfied: python-dateutil>=2.7.3 in /usr/local/lib/python3.7/dist-packages (from pandas>=1.0.1->river) (2.8.2)\n",
            "Requirement already satisfied: pytz>=2017.2 in /usr/local/lib/python3.7/dist-packages (from pandas>=1.0.1->river) (2018.9)\n",
            "Requirement already satisfied: six>=1.5 in /usr/local/lib/python3.7/dist-packages (from python-dateutil>=2.7.3->pandas>=1.0.1->river) (1.15.0)\n",
            "Installing collected packages: river\n",
            "Successfully installed river-0.9.0\n"
          ]
        }
      ]
    },
    {
      "cell_type": "code",
      "metadata": {
        "id": "skCcqgdMWn5u",
        "colab": {
          "base_uri": "https://localhost:8080/",
          "height": 17
        },
        "outputId": "9a547921-d25f-4aae-cff8-19a7692e5b2d"
      },
      "source": [
        "import numpy as np\n",
        "import pandas as pd\n",
        "import plotly.graph_objects as go\n",
        "import plotly.express as px\n",
        "from sklearn.model_selection import train_test_split\n",
        "from river.metrics import ClassificationReport\n",
        "from river.ensemble import AdaptiveRandomForestClassifier\n",
        "from river import stream\n",
        "from river import evaluate\n",
        "from river import metrics\n",
        "import pickle\n",
        "\n",
        "from plotly.offline import init_notebook_mode\n",
        "init_notebook_mode(connected = True) \n",
        "template = 'plotly_dark'"
      ],
      "execution_count": null,
      "outputs": [
        {
          "output_type": "display_data",
          "data": {
            "text/html": [
              "        <script type=\"text/javascript\">\n",
              "        window.PlotlyConfig = {MathJaxConfig: 'local'};\n",
              "        if (window.MathJax) {MathJax.Hub.Config({SVG: {font: \"STIX-Web\"}});}\n",
              "        if (typeof require !== 'undefined') {\n",
              "        require.undef(\"plotly\");\n",
              "        requirejs.config({\n",
              "            paths: {\n",
              "                'plotly': ['https://cdn.plot.ly/plotly-latest.min']\n",
              "            }\n",
              "        });\n",
              "        require(['plotly'], function(Plotly) {\n",
              "            window._Plotly = Plotly;\n",
              "        });\n",
              "        }\n",
              "        </script>\n",
              "        "
            ]
          },
          "metadata": {}
        }
      ]
    },
    {
      "cell_type": "code",
      "metadata": {
        "id": "k1MHFGumWn51"
      },
      "source": [
        "df = pd.read_excel('https://query.data.world/s/gyrfwi47zdpwzt2pyqjehlve2ujmtj')"
      ],
      "execution_count": null,
      "outputs": []
    },
    {
      "cell_type": "code",
      "metadata": {
        "colab": {
          "base_uri": "https://localhost:8080/",
          "height": 310
        },
        "id": "fXIJWja0Wn54",
        "outputId": "4a2c59e1-c87a-4057-ab4c-adb103d52602"
      },
      "source": [
        "df.head()"
      ],
      "execution_count": null,
      "outputs": [
        {
          "output_type": "execute_result",
          "data": {
            "text/html": [
              "<div>\n",
              "<style scoped>\n",
              "    .dataframe tbody tr th:only-of-type {\n",
              "        vertical-align: middle;\n",
              "    }\n",
              "\n",
              "    .dataframe tbody tr th {\n",
              "        vertical-align: top;\n",
              "    }\n",
              "\n",
              "    .dataframe thead th {\n",
              "        text-align: right;\n",
              "    }\n",
              "</style>\n",
              "<table border=\"1\" class=\"dataframe\">\n",
              "  <thead>\n",
              "    <tr style=\"text-align: right;\">\n",
              "      <th></th>\n",
              "      <th>Patient number</th>\n",
              "      <th>Cholesterol</th>\n",
              "      <th>Glucose</th>\n",
              "      <th>HDL Chol</th>\n",
              "      <th>Chol/HDL ratio</th>\n",
              "      <th>Age</th>\n",
              "      <th>Gender</th>\n",
              "      <th>Height</th>\n",
              "      <th>Weight</th>\n",
              "      <th>BMI</th>\n",
              "      <th>Systolic BP</th>\n",
              "      <th>Diastolic BP</th>\n",
              "      <th>waist</th>\n",
              "      <th>hip</th>\n",
              "      <th>Waist/hip ratio</th>\n",
              "      <th>Diabetes</th>\n",
              "      <th>Unnamed: 16</th>\n",
              "      <th>Unnamed: 17</th>\n",
              "    </tr>\n",
              "  </thead>\n",
              "  <tbody>\n",
              "    <tr>\n",
              "      <th>0</th>\n",
              "      <td>1</td>\n",
              "      <td>193</td>\n",
              "      <td>77</td>\n",
              "      <td>49</td>\n",
              "      <td>3.9</td>\n",
              "      <td>19</td>\n",
              "      <td>female</td>\n",
              "      <td>61</td>\n",
              "      <td>119</td>\n",
              "      <td>22.5</td>\n",
              "      <td>118</td>\n",
              "      <td>70</td>\n",
              "      <td>32</td>\n",
              "      <td>38</td>\n",
              "      <td>0.84</td>\n",
              "      <td>No diabetes</td>\n",
              "      <td>6.0</td>\n",
              "      <td>6.0</td>\n",
              "    </tr>\n",
              "    <tr>\n",
              "      <th>1</th>\n",
              "      <td>2</td>\n",
              "      <td>146</td>\n",
              "      <td>79</td>\n",
              "      <td>41</td>\n",
              "      <td>3.6</td>\n",
              "      <td>19</td>\n",
              "      <td>female</td>\n",
              "      <td>60</td>\n",
              "      <td>135</td>\n",
              "      <td>26.4</td>\n",
              "      <td>108</td>\n",
              "      <td>58</td>\n",
              "      <td>33</td>\n",
              "      <td>40</td>\n",
              "      <td>0.83</td>\n",
              "      <td>No diabetes</td>\n",
              "      <td>NaN</td>\n",
              "      <td>NaN</td>\n",
              "    </tr>\n",
              "    <tr>\n",
              "      <th>2</th>\n",
              "      <td>3</td>\n",
              "      <td>217</td>\n",
              "      <td>75</td>\n",
              "      <td>54</td>\n",
              "      <td>4.0</td>\n",
              "      <td>20</td>\n",
              "      <td>female</td>\n",
              "      <td>67</td>\n",
              "      <td>187</td>\n",
              "      <td>29.3</td>\n",
              "      <td>110</td>\n",
              "      <td>72</td>\n",
              "      <td>40</td>\n",
              "      <td>45</td>\n",
              "      <td>0.89</td>\n",
              "      <td>No diabetes</td>\n",
              "      <td>NaN</td>\n",
              "      <td>NaN</td>\n",
              "    </tr>\n",
              "    <tr>\n",
              "      <th>3</th>\n",
              "      <td>4</td>\n",
              "      <td>226</td>\n",
              "      <td>97</td>\n",
              "      <td>70</td>\n",
              "      <td>3.2</td>\n",
              "      <td>20</td>\n",
              "      <td>female</td>\n",
              "      <td>64</td>\n",
              "      <td>114</td>\n",
              "      <td>19.6</td>\n",
              "      <td>122</td>\n",
              "      <td>64</td>\n",
              "      <td>31</td>\n",
              "      <td>39</td>\n",
              "      <td>0.79</td>\n",
              "      <td>No diabetes</td>\n",
              "      <td>NaN</td>\n",
              "      <td>NaN</td>\n",
              "    </tr>\n",
              "    <tr>\n",
              "      <th>4</th>\n",
              "      <td>5</td>\n",
              "      <td>164</td>\n",
              "      <td>91</td>\n",
              "      <td>67</td>\n",
              "      <td>2.4</td>\n",
              "      <td>20</td>\n",
              "      <td>female</td>\n",
              "      <td>70</td>\n",
              "      <td>141</td>\n",
              "      <td>20.2</td>\n",
              "      <td>122</td>\n",
              "      <td>86</td>\n",
              "      <td>32</td>\n",
              "      <td>39</td>\n",
              "      <td>0.82</td>\n",
              "      <td>No diabetes</td>\n",
              "      <td>NaN</td>\n",
              "      <td>NaN</td>\n",
              "    </tr>\n",
              "  </tbody>\n",
              "</table>\n",
              "</div>"
            ],
            "text/plain": [
              "   Patient number  Cholesterol  Glucose  ...     Diabetes  Unnamed: 16  Unnamed: 17\n",
              "0               1          193       77  ...  No diabetes          6.0          6.0\n",
              "1               2          146       79  ...  No diabetes          NaN          NaN\n",
              "2               3          217       75  ...  No diabetes          NaN          NaN\n",
              "3               4          226       97  ...  No diabetes          NaN          NaN\n",
              "4               5          164       91  ...  No diabetes          NaN          NaN\n",
              "\n",
              "[5 rows x 18 columns]"
            ]
          },
          "metadata": {},
          "execution_count": 25
        }
      ]
    },
    {
      "cell_type": "markdown",
      "source": [
        "We need to firstly remove the patient number column and unnamed columns."
      ],
      "metadata": {
        "id": "YQ8wBMyQEUpz"
      }
    },
    {
      "cell_type": "code",
      "source": [
        "df = df.drop(['Patient number', 'Unnamed: 16',\t'Unnamed: 17'], axis = 1)"
      ],
      "metadata": {
        "id": "iHw4eWaYD8u_"
      },
      "execution_count": null,
      "outputs": []
    },
    {
      "cell_type": "code",
      "metadata": {
        "id": "oK89l0ZzWn56",
        "outputId": "1909acfb-1c81-477d-e8b6-b433b545a82f",
        "colab": {
          "base_uri": "https://localhost:8080/"
        }
      },
      "source": [
        "df.info()"
      ],
      "execution_count": null,
      "outputs": [
        {
          "output_type": "stream",
          "name": "stdout",
          "text": [
            "<class 'pandas.core.frame.DataFrame'>\n",
            "RangeIndex: 390 entries, 0 to 389\n",
            "Data columns (total 15 columns):\n",
            " #   Column           Non-Null Count  Dtype  \n",
            "---  ------           --------------  -----  \n",
            " 0   Cholesterol      390 non-null    int64  \n",
            " 1   Glucose          390 non-null    int64  \n",
            " 2   HDL Chol         390 non-null    int64  \n",
            " 3   Chol/HDL ratio   390 non-null    float64\n",
            " 4   Age              390 non-null    int64  \n",
            " 5   Gender           390 non-null    object \n",
            " 6   Height           390 non-null    int64  \n",
            " 7   Weight           390 non-null    int64  \n",
            " 8   BMI              390 non-null    float64\n",
            " 9   Systolic BP      390 non-null    int64  \n",
            " 10  Diastolic BP     390 non-null    int64  \n",
            " 11  waist            390 non-null    int64  \n",
            " 12  hip              390 non-null    int64  \n",
            " 13  Waist/hip ratio  390 non-null    float64\n",
            " 14  Diabetes         390 non-null    object \n",
            "dtypes: float64(3), int64(10), object(2)\n",
            "memory usage: 45.8+ KB\n"
          ]
        }
      ]
    },
    {
      "cell_type": "markdown",
      "source": [
        "The data set contains no null values.\n",
        "\n",
        "The aim is to predict three classes (non-diabetes, pre-diabetes and diabetes), therefore we need to change the diabetes column to represent three classes. \n",
        "\n",
        "To achieve this we need to use the glucose column. The readings in this column is taken from a Fasting Plasma Glucose test which means that the glucose levels are recorded after a patient has fasted for at least 8 hours."
      ],
      "metadata": {
        "id": "5DAaVUigEaln"
      }
    },
    {
      "cell_type": "code",
      "metadata": {
        "id": "3xgX3RCfWn57"
      },
      "source": [
        "def classify(glucose):\n",
        "    if glucose <= 99:\n",
        "        return 'Non-Diabetic'\n",
        "    if glucose >= 100 and glucose <= 125:\n",
        "        return 'Prediabetic'\n",
        "    else:\n",
        "        return 'Diabetic' "
      ],
      "execution_count": null,
      "outputs": []
    },
    {
      "cell_type": "code",
      "metadata": {
        "id": "R5RFhJ9MWn58"
      },
      "source": [
        "df['Diabetes'] = df['Glucose'].apply(classify)"
      ],
      "execution_count": null,
      "outputs": []
    },
    {
      "cell_type": "code",
      "metadata": {
        "id": "Z102XxsNWn59",
        "outputId": "447e4149-73b0-4b85-8c60-f8faa3433cfe",
        "colab": {
          "base_uri": "https://localhost:8080/"
        }
      },
      "source": [
        "df['Diabetes'].value_counts()"
      ],
      "execution_count": null,
      "outputs": [
        {
          "output_type": "execute_result",
          "data": {
            "text/plain": [
              "Non-Diabetic    260\n",
              "Prediabetic      70\n",
              "Diabetic         60\n",
              "Name: Diabetes, dtype: int64"
            ]
          },
          "metadata": {},
          "execution_count": 30
        }
      ]
    },
    {
      "cell_type": "markdown",
      "source": [
        "The data is unequally distributed which can cause the model to favour the majority class which is Non-Diabetes. But since the model that we will be using can be trained continuously on new data, our goal is to make sure that the model is able to predict all three classes. The accuracy can be improve going forward when new data is extracted.\n"
      ],
      "metadata": {
        "id": "p7jyr5mtF24Z"
      }
    },
    {
      "cell_type": "code",
      "source": [
        "df.columns"
      ],
      "metadata": {
        "colab": {
          "base_uri": "https://localhost:8080/"
        },
        "id": "gHfcGdAgIv23",
        "outputId": "07344858-f7f6-42ae-acb9-ef236a892fd7"
      },
      "execution_count": null,
      "outputs": [
        {
          "output_type": "execute_result",
          "data": {
            "text/plain": [
              "Index(['Cholesterol', 'Glucose', 'HDL Chol', 'Chol/HDL ratio', 'Age', 'Gender',\n",
              "       'Height', 'Weight', 'BMI', 'Systolic BP', 'Diastolic BP', 'waist',\n",
              "       'hip', 'Waist/hip ratio', 'Diabetes'],\n",
              "      dtype='object')"
            ]
          },
          "metadata": {},
          "execution_count": 31
        }
      ]
    },
    {
      "cell_type": "markdown",
      "source": [
        "After taking a brief look at the columns in the data set, some of them seems redundant. For example, there is already BMI that represents both height and weight therefore height and weight can be removed. The same goes for waist, hip, cholesterol and hdl chol."
      ],
      "metadata": {
        "id": "K6XRpsHrIy7c"
      }
    },
    {
      "cell_type": "code",
      "metadata": {
        "id": "4lkXpxX4Wn5-"
      },
      "source": [
        "df = df.drop(['Height', 'Weight', 'waist', 'hip', 'Cholesterol', 'HDL Chol'], axis=1)"
      ],
      "execution_count": null,
      "outputs": []
    },
    {
      "cell_type": "code",
      "metadata": {
        "id": "D2iKuGVFWn5_",
        "outputId": "74f9c3d6-938f-4d4f-8ad1-a90fd303f5e3",
        "colab": {
          "base_uri": "https://localhost:8080/",
          "height": 206
        }
      },
      "source": [
        "df.head()"
      ],
      "execution_count": null,
      "outputs": [
        {
          "output_type": "execute_result",
          "data": {
            "text/html": [
              "<div>\n",
              "<style scoped>\n",
              "    .dataframe tbody tr th:only-of-type {\n",
              "        vertical-align: middle;\n",
              "    }\n",
              "\n",
              "    .dataframe tbody tr th {\n",
              "        vertical-align: top;\n",
              "    }\n",
              "\n",
              "    .dataframe thead th {\n",
              "        text-align: right;\n",
              "    }\n",
              "</style>\n",
              "<table border=\"1\" class=\"dataframe\">\n",
              "  <thead>\n",
              "    <tr style=\"text-align: right;\">\n",
              "      <th></th>\n",
              "      <th>Glucose</th>\n",
              "      <th>Chol/HDL ratio</th>\n",
              "      <th>Age</th>\n",
              "      <th>Gender</th>\n",
              "      <th>BMI</th>\n",
              "      <th>Systolic BP</th>\n",
              "      <th>Diastolic BP</th>\n",
              "      <th>Waist/hip ratio</th>\n",
              "      <th>Diabetes</th>\n",
              "    </tr>\n",
              "  </thead>\n",
              "  <tbody>\n",
              "    <tr>\n",
              "      <th>0</th>\n",
              "      <td>77</td>\n",
              "      <td>3.9</td>\n",
              "      <td>19</td>\n",
              "      <td>female</td>\n",
              "      <td>22.5</td>\n",
              "      <td>118</td>\n",
              "      <td>70</td>\n",
              "      <td>0.84</td>\n",
              "      <td>Non-Diabetic</td>\n",
              "    </tr>\n",
              "    <tr>\n",
              "      <th>1</th>\n",
              "      <td>79</td>\n",
              "      <td>3.6</td>\n",
              "      <td>19</td>\n",
              "      <td>female</td>\n",
              "      <td>26.4</td>\n",
              "      <td>108</td>\n",
              "      <td>58</td>\n",
              "      <td>0.83</td>\n",
              "      <td>Non-Diabetic</td>\n",
              "    </tr>\n",
              "    <tr>\n",
              "      <th>2</th>\n",
              "      <td>75</td>\n",
              "      <td>4.0</td>\n",
              "      <td>20</td>\n",
              "      <td>female</td>\n",
              "      <td>29.3</td>\n",
              "      <td>110</td>\n",
              "      <td>72</td>\n",
              "      <td>0.89</td>\n",
              "      <td>Non-Diabetic</td>\n",
              "    </tr>\n",
              "    <tr>\n",
              "      <th>3</th>\n",
              "      <td>97</td>\n",
              "      <td>3.2</td>\n",
              "      <td>20</td>\n",
              "      <td>female</td>\n",
              "      <td>19.6</td>\n",
              "      <td>122</td>\n",
              "      <td>64</td>\n",
              "      <td>0.79</td>\n",
              "      <td>Non-Diabetic</td>\n",
              "    </tr>\n",
              "    <tr>\n",
              "      <th>4</th>\n",
              "      <td>91</td>\n",
              "      <td>2.4</td>\n",
              "      <td>20</td>\n",
              "      <td>female</td>\n",
              "      <td>20.2</td>\n",
              "      <td>122</td>\n",
              "      <td>86</td>\n",
              "      <td>0.82</td>\n",
              "      <td>Non-Diabetic</td>\n",
              "    </tr>\n",
              "  </tbody>\n",
              "</table>\n",
              "</div>"
            ],
            "text/plain": [
              "   Glucose  Chol/HDL ratio  Age  ... Diastolic BP  Waist/hip ratio      Diabetes\n",
              "0       77             3.9   19  ...           70             0.84  Non-Diabetic\n",
              "1       79             3.6   19  ...           58             0.83  Non-Diabetic\n",
              "2       75             4.0   20  ...           72             0.89  Non-Diabetic\n",
              "3       97             3.2   20  ...           64             0.79  Non-Diabetic\n",
              "4       91             2.4   20  ...           86             0.82  Non-Diabetic\n",
              "\n",
              "[5 rows x 9 columns]"
            ]
          },
          "metadata": {},
          "execution_count": 33
        }
      ]
    },
    {
      "cell_type": "markdown",
      "source": [
        "Blood Pressure consists of two columns that represent systolic and diastolic.\n",
        "\n",
        "* **Systolic blood pressure:** measures the force your heart exerts on the walls of your arteries each time it beats.\n",
        "* **Diastolic blood pressure:** measures the force your heart exerts on the walls of your arteries in between beats.\n",
        "\n",
        "Patients won't know what this means at first sight, therefore it should be represented at one entity. To do that we need to make a new column that represents the average blood pressure of patient, but patients will only see it as blood pressure.\n",
        "\n",
        "After get the average blood pressure, the systolic and diasystolic columns can be removed."
      ],
      "metadata": {
        "id": "1BnCK2WML0xf"
      }
    },
    {
      "cell_type": "code",
      "source": [
        "df['BloodPressure'] = (df['Systolic BP'] + df['Diastolic BP']) / 2\n",
        "# Make sure the values are of data type int\n",
        "df['BloodPressure'] = df['BloodPressure'].apply(lambda x: int(x))"
      ],
      "metadata": {
        "id": "FORBkZQ2Lv2Y"
      },
      "execution_count": null,
      "outputs": []
    },
    {
      "cell_type": "code",
      "source": [
        "df = df.drop(['Systolic BP', 'Diastolic BP'], axis=1)"
      ],
      "metadata": {
        "id": "tZNM2A0SLvf-"
      },
      "execution_count": null,
      "outputs": []
    },
    {
      "cell_type": "code",
      "source": [
        "df.head()"
      ],
      "metadata": {
        "colab": {
          "base_uri": "https://localhost:8080/",
          "height": 206
        },
        "id": "hvRywvdLLvc7",
        "outputId": "694aa4cc-728f-49a5-f9b6-4956a8400294"
      },
      "execution_count": null,
      "outputs": [
        {
          "output_type": "execute_result",
          "data": {
            "text/html": [
              "<div>\n",
              "<style scoped>\n",
              "    .dataframe tbody tr th:only-of-type {\n",
              "        vertical-align: middle;\n",
              "    }\n",
              "\n",
              "    .dataframe tbody tr th {\n",
              "        vertical-align: top;\n",
              "    }\n",
              "\n",
              "    .dataframe thead th {\n",
              "        text-align: right;\n",
              "    }\n",
              "</style>\n",
              "<table border=\"1\" class=\"dataframe\">\n",
              "  <thead>\n",
              "    <tr style=\"text-align: right;\">\n",
              "      <th></th>\n",
              "      <th>Glucose</th>\n",
              "      <th>Chol/HDL ratio</th>\n",
              "      <th>Age</th>\n",
              "      <th>Gender</th>\n",
              "      <th>BMI</th>\n",
              "      <th>Waist/hip ratio</th>\n",
              "      <th>Diabetes</th>\n",
              "      <th>BloodPressure</th>\n",
              "    </tr>\n",
              "  </thead>\n",
              "  <tbody>\n",
              "    <tr>\n",
              "      <th>0</th>\n",
              "      <td>77</td>\n",
              "      <td>3.9</td>\n",
              "      <td>19</td>\n",
              "      <td>female</td>\n",
              "      <td>22.5</td>\n",
              "      <td>0.84</td>\n",
              "      <td>Non-Diabetic</td>\n",
              "      <td>94</td>\n",
              "    </tr>\n",
              "    <tr>\n",
              "      <th>1</th>\n",
              "      <td>79</td>\n",
              "      <td>3.6</td>\n",
              "      <td>19</td>\n",
              "      <td>female</td>\n",
              "      <td>26.4</td>\n",
              "      <td>0.83</td>\n",
              "      <td>Non-Diabetic</td>\n",
              "      <td>83</td>\n",
              "    </tr>\n",
              "    <tr>\n",
              "      <th>2</th>\n",
              "      <td>75</td>\n",
              "      <td>4.0</td>\n",
              "      <td>20</td>\n",
              "      <td>female</td>\n",
              "      <td>29.3</td>\n",
              "      <td>0.89</td>\n",
              "      <td>Non-Diabetic</td>\n",
              "      <td>91</td>\n",
              "    </tr>\n",
              "    <tr>\n",
              "      <th>3</th>\n",
              "      <td>97</td>\n",
              "      <td>3.2</td>\n",
              "      <td>20</td>\n",
              "      <td>female</td>\n",
              "      <td>19.6</td>\n",
              "      <td>0.79</td>\n",
              "      <td>Non-Diabetic</td>\n",
              "      <td>93</td>\n",
              "    </tr>\n",
              "    <tr>\n",
              "      <th>4</th>\n",
              "      <td>91</td>\n",
              "      <td>2.4</td>\n",
              "      <td>20</td>\n",
              "      <td>female</td>\n",
              "      <td>20.2</td>\n",
              "      <td>0.82</td>\n",
              "      <td>Non-Diabetic</td>\n",
              "      <td>104</td>\n",
              "    </tr>\n",
              "  </tbody>\n",
              "</table>\n",
              "</div>"
            ],
            "text/plain": [
              "   Glucose  Chol/HDL ratio  Age  ... Waist/hip ratio      Diabetes  BloodPressure\n",
              "0       77             3.9   19  ...            0.84  Non-Diabetic             94\n",
              "1       79             3.6   19  ...            0.83  Non-Diabetic             83\n",
              "2       75             4.0   20  ...            0.89  Non-Diabetic             91\n",
              "3       97             3.2   20  ...            0.79  Non-Diabetic             93\n",
              "4       91             2.4   20  ...            0.82  Non-Diabetic            104\n",
              "\n",
              "[5 rows x 8 columns]"
            ]
          },
          "metadata": {},
          "execution_count": 40
        }
      ]
    },
    {
      "cell_type": "markdown",
      "source": [
        "Now we make a new column for gender and diabetes in number format to observe the correlation."
      ],
      "metadata": {
        "id": "sfjpxA_EaMhR"
      }
    },
    {
      "cell_type": "code",
      "source": [
        "def num_format(gender):\n",
        "    if gender == 'male':\n",
        "        return 1\n",
        "    else:\n",
        "        return 0 "
      ],
      "metadata": {
        "id": "ItimXYAUaFde"
      },
      "execution_count": null,
      "outputs": []
    },
    {
      "cell_type": "code",
      "source": [
        "df['GenderBinary'] = df['Gender'].apply(num_format)"
      ],
      "metadata": {
        "id": "80QTBf76a0nQ"
      },
      "execution_count": null,
      "outputs": []
    },
    {
      "cell_type": "code",
      "source": [
        "def diabetes_binary(glucose):\n",
        "    if glucose <= 99:\n",
        "        return 0\n",
        "    if glucose >= 100 and glucose <= 125:\n",
        "        return 1\n",
        "    else:\n",
        "        return 2"
      ],
      "metadata": {
        "id": "VSXtjDEybd4R"
      },
      "execution_count": null,
      "outputs": []
    },
    {
      "cell_type": "code",
      "source": [
        "df['DiabetesBinary'] = df['Glucose'].apply(diabetes_binary)"
      ],
      "metadata": {
        "id": "z0Lwa6u1bpz6"
      },
      "execution_count": null,
      "outputs": []
    },
    {
      "cell_type": "code",
      "source": [
        "df.corr()"
      ],
      "metadata": {
        "colab": {
          "base_uri": "https://localhost:8080/",
          "height": 300
        },
        "id": "QFzNIyUeWjAM",
        "outputId": "7dc092d3-211e-40ed-d3eb-62f2629b4f50"
      },
      "execution_count": null,
      "outputs": [
        {
          "output_type": "execute_result",
          "data": {
            "text/html": [
              "<div>\n",
              "<style scoped>\n",
              "    .dataframe tbody tr th:only-of-type {\n",
              "        vertical-align: middle;\n",
              "    }\n",
              "\n",
              "    .dataframe tbody tr th {\n",
              "        vertical-align: top;\n",
              "    }\n",
              "\n",
              "    .dataframe thead th {\n",
              "        text-align: right;\n",
              "    }\n",
              "</style>\n",
              "<table border=\"1\" class=\"dataframe\">\n",
              "  <thead>\n",
              "    <tr style=\"text-align: right;\">\n",
              "      <th></th>\n",
              "      <th>Glucose</th>\n",
              "      <th>Chol/HDL ratio</th>\n",
              "      <th>Age</th>\n",
              "      <th>BMI</th>\n",
              "      <th>Waist/hip ratio</th>\n",
              "      <th>BloodPressure</th>\n",
              "      <th>GenderBinary</th>\n",
              "      <th>DiabetesBinary</th>\n",
              "    </tr>\n",
              "  </thead>\n",
              "  <tbody>\n",
              "    <tr>\n",
              "      <th>Glucose</th>\n",
              "      <td>1.000000</td>\n",
              "      <td>0.282210</td>\n",
              "      <td>0.294392</td>\n",
              "      <td>0.129286</td>\n",
              "      <td>0.185117</td>\n",
              "      <td>0.122418</td>\n",
              "      <td>0.093372</td>\n",
              "      <td>0.820437</td>\n",
              "    </tr>\n",
              "    <tr>\n",
              "      <th>Chol/HDL ratio</th>\n",
              "      <td>0.282210</td>\n",
              "      <td>1.000000</td>\n",
              "      <td>0.163201</td>\n",
              "      <td>0.228407</td>\n",
              "      <td>0.243329</td>\n",
              "      <td>0.095836</td>\n",
              "      <td>0.102938</td>\n",
              "      <td>0.281989</td>\n",
              "    </tr>\n",
              "    <tr>\n",
              "      <th>Age</th>\n",
              "      <td>0.294392</td>\n",
              "      <td>0.163201</td>\n",
              "      <td>1.000000</td>\n",
              "      <td>-0.009164</td>\n",
              "      <td>0.275188</td>\n",
              "      <td>0.343769</td>\n",
              "      <td>0.084177</td>\n",
              "      <td>0.301015</td>\n",
              "    </tr>\n",
              "    <tr>\n",
              "      <th>BMI</th>\n",
              "      <td>0.129286</td>\n",
              "      <td>0.228407</td>\n",
              "      <td>-0.009164</td>\n",
              "      <td>1.000000</td>\n",
              "      <td>0.100873</td>\n",
              "      <td>0.144787</td>\n",
              "      <td>-0.254189</td>\n",
              "      <td>0.193634</td>\n",
              "    </tr>\n",
              "    <tr>\n",
              "      <th>Waist/hip ratio</th>\n",
              "      <td>0.185117</td>\n",
              "      <td>0.243329</td>\n",
              "      <td>0.275188</td>\n",
              "      <td>0.100873</td>\n",
              "      <td>1.000000</td>\n",
              "      <td>0.127308</td>\n",
              "      <td>0.346253</td>\n",
              "      <td>0.178323</td>\n",
              "    </tr>\n",
              "    <tr>\n",
              "      <th>BloodPressure</th>\n",
              "      <td>0.122418</td>\n",
              "      <td>0.095836</td>\n",
              "      <td>0.343769</td>\n",
              "      <td>0.144787</td>\n",
              "      <td>0.127308</td>\n",
              "      <td>1.000000</td>\n",
              "      <td>0.052933</td>\n",
              "      <td>0.151256</td>\n",
              "    </tr>\n",
              "    <tr>\n",
              "      <th>GenderBinary</th>\n",
              "      <td>0.093372</td>\n",
              "      <td>0.102938</td>\n",
              "      <td>0.084177</td>\n",
              "      <td>-0.254189</td>\n",
              "      <td>0.346253</td>\n",
              "      <td>0.052933</td>\n",
              "      <td>1.000000</td>\n",
              "      <td>0.049316</td>\n",
              "    </tr>\n",
              "    <tr>\n",
              "      <th>DiabetesBinary</th>\n",
              "      <td>0.820437</td>\n",
              "      <td>0.281989</td>\n",
              "      <td>0.301015</td>\n",
              "      <td>0.193634</td>\n",
              "      <td>0.178323</td>\n",
              "      <td>0.151256</td>\n",
              "      <td>0.049316</td>\n",
              "      <td>1.000000</td>\n",
              "    </tr>\n",
              "  </tbody>\n",
              "</table>\n",
              "</div>"
            ],
            "text/plain": [
              "                  Glucose  Chol/HDL ratio  ...  GenderBinary  DiabetesBinary\n",
              "Glucose          1.000000        0.282210  ...      0.093372        0.820437\n",
              "Chol/HDL ratio   0.282210        1.000000  ...      0.102938        0.281989\n",
              "Age              0.294392        0.163201  ...      0.084177        0.301015\n",
              "BMI              0.129286        0.228407  ...     -0.254189        0.193634\n",
              "Waist/hip ratio  0.185117        0.243329  ...      0.346253        0.178323\n",
              "BloodPressure    0.122418        0.095836  ...      0.052933        0.151256\n",
              "GenderBinary     0.093372        0.102938  ...      1.000000        0.049316\n",
              "DiabetesBinary   0.820437        0.281989  ...      0.049316        1.000000\n",
              "\n",
              "[8 rows x 8 columns]"
            ]
          },
          "metadata": {},
          "execution_count": 54
        }
      ]
    },
    {
      "cell_type": "markdown",
      "source": [
        "We will be exploring observations that has a correlation of 2 or higher in the Exploratory Data Analysis section."
      ],
      "metadata": {
        "id": "c1-P06nHeM05"
      }
    },
    {
      "cell_type": "markdown",
      "source": [
        "## Exploratory Data Analysis\n",
        "---"
      ],
      "metadata": {
        "id": "jwenSLaaWxgm"
      }
    },
    {
      "cell_type": "markdown",
      "source": [
        "Based on extensive research, we will be discussing on features that will be removed."
      ],
      "metadata": {
        "id": "b3VAUnjxPTsh"
      }
    },
    {
      "cell_type": "code",
      "source": [
        "fig = px.scatter(df, x=\"Age\", y=\"Glucose\", color=\"Diabetes\")\n",
        "fig.update_layout(\n",
        "    template = template, \n",
        "    title = \"Age vs Glucose\",\n",
        ")\n",
        "fig.show(renderer=\"colab\")"
      ],
      "metadata": {
        "colab": {
          "base_uri": "https://localhost:8080/",
          "height": 542
        },
        "id": "5C8qcOfvXFBO",
        "outputId": "278169cd-d3a5-491b-cc99-4bcc6fa6abb8"
      },
      "execution_count": null,
      "outputs": [
        {
          "output_type": "display_data",
          "data": {
            "text/html": [
              "<html>\n",
              "<head><meta charset=\"utf-8\" /></head>\n",
              "<body>\n",
              "    <div>\n",
              "            <script src=\"https://cdnjs.cloudflare.com/ajax/libs/mathjax/2.7.5/MathJax.js?config=TeX-AMS-MML_SVG\"></script><script type=\"text/javascript\">if (window.MathJax) {MathJax.Hub.Config({SVG: {font: \"STIX-Web\"}});}</script>\n",
              "                <script type=\"text/javascript\">window.PlotlyConfig = {MathJaxConfig: 'local'};</script>\n",
              "        <script src=\"https://cdn.plot.ly/plotly-latest.min.js\"></script>    \n",
              "            <div id=\"f310373f-d623-4618-b491-39e868738e23\" class=\"plotly-graph-div\" style=\"height:525px; width:100%;\"></div>\n",
              "            <script type=\"text/javascript\">\n",
              "                \n",
              "                    window.PLOTLYENV=window.PLOTLYENV || {};\n",
              "                    \n",
              "                if (document.getElementById(\"f310373f-d623-4618-b491-39e868738e23\")) {\n",
              "                    Plotly.newPlot(\n",
              "                        'f310373f-d623-4618-b491-39e868738e23',\n",
              "                        [{\"hoverlabel\": {\"namelength\": 0}, \"hovertemplate\": \"Diabetes=Non-Diabetic<br>Age=%{x}<br>Glucose=%{y}\", \"legendgroup\": \"Diabetes=Non-Diabetic\", \"marker\": {\"color\": \"#636efa\", \"symbol\": \"circle\"}, \"mode\": \"markers\", \"name\": \"Diabetes=Non-Diabetic\", \"showlegend\": true, \"type\": \"scatter\", \"x\": [19, 19, 20, 20, 20, 20, 20, 20, 21, 21, 21, 21, 21, 21, 22, 22, 22, 22, 22, 23, 23, 23, 23, 23, 23, 23, 24, 25, 25, 26, 26, 26, 26, 26, 27, 27, 27, 27, 27, 27, 27, 28, 28, 28, 28, 28, 28, 28, 29, 29, 29, 29, 29, 30, 30, 30, 30, 30, 30, 30, 30, 31, 31, 31, 31, 31, 31, 31, 31, 32, 32, 32, 33, 33, 33, 33, 33, 33, 34, 34, 34, 34, 34, 34, 34, 35, 35, 35, 35, 36, 36, 36, 36, 36, 36, 36, 36, 36, 36, 37, 37, 37, 37, 37, 37, 37, 37, 37, 37, 38, 38, 38, 38, 38, 38, 38, 39, 39, 40, 40, 40, 40, 40, 40, 40, 40, 40, 40, 40, 40, 40, 41, 41, 41, 41, 41, 41, 41, 41, 41, 41, 42, 42, 42, 42, 43, 43, 43, 43, 43, 43, 43, 43, 44, 44, 44, 45, 45, 45, 45, 45, 46, 47, 47, 47, 47, 47, 48, 48, 48, 48, 48, 49, 49, 50, 50, 50, 50, 50, 51, 51, 51, 51, 51, 52, 52, 52, 52, 52, 52, 53, 53, 53, 53, 54, 54, 54, 54, 55, 55, 55, 55, 56, 57, 57, 58, 58, 58, 58, 59, 59, 60, 60, 60, 60, 60, 61, 61, 61, 61, 62, 63, 63, 63, 63, 63, 63, 63, 63, 64, 64, 65, 65, 65, 66, 66, 66, 67, 67, 68, 69, 70, 70, 71, 71, 72, 72, 72, 74, 74, 75, 76, 78, 78, 78, 79, 80, 82, 89, 92], \"xaxis\": \"x\", \"y\": [77, 79, 75, 97, 91, 69, 77, 71, 99, 84, 88, 84, 89, 75, 76, 70, 81, 75, 81, 91, 86, 78, 91, 75, 76, 86, 66, 87, 98, 58, 90, 83, 79, 60, 76, 75, 92, 94, 62, 77, 92, 94, 74, 99, 69, 77, 96, 83, 77, 88, 69, 71, 97, 74, 82, 77, 81, 74, 84, 92, 75, 69, 92, 83, 77, 89, 77, 85, 91, 81, 85, 90, 83, 87, 85, 82, 84, 93, 70, 65, 94, 88, 71, 85, 90, 86, 80, 85, 97, 82, 83, 71, 76, 92, 81, 74, 78, 85, 81, 75, 89, 64, 67, 52, 86, 85, 91, 87, 88, 85, 90, 86, 81, 95, 88, 90, 83, 85, 56, 98, 83, 72, 76, 77, 92, 79, 92, 84, 74, 87, 85, 78, 79, 64, 80, 84, 84, 76, 86, 59, 73, 73, 77, 81, 81, 84, 74, 85, 76, 87, 84, 87, 84, 84, 67, 87, 71, 80, 92, 87, 83, 82, 81, 65, 95, 82, 90, 74, 85, 87, 81, 89, 87, 75, 91, 78, 67, 88, 91, 85, 89, 82, 81, 79, 68, 97, 83, 85, 83, 57, 78, 94, 74, 84, 76, 87, 79, 96, 94, 93, 74, 89, 95, 81, 80, 92, 85, 94, 48, 97, 95, 92, 56, 82, 90, 90, 91, 94, 85, 86, 95, 92, 54, 80, 82, 87, 95, 88, 91, 81, 90, 95, 97, 67, 82, 76, 92, 93, 85, 77, 68, 74, 97, 70, 85, 83, 76, 71, 92, 88, 79, 82, 80, 81, 98, 91, 92, 88, 90, 94], \"yaxis\": \"y\"}, {\"hoverlabel\": {\"namelength\": 0}, \"hovertemplate\": \"Diabetes=Prediabetic<br>Age=%{x}<br>Glucose=%{y}\", \"legendgroup\": \"Diabetes=Prediabetic\", \"marker\": {\"color\": \"#EF553B\", \"symbol\": \"circle\"}, \"mode\": \"markers\", \"name\": \"Diabetes=Prediabetic\", \"showlegend\": true, \"type\": \"scatter\", \"x\": [20, 20, 20, 20, 25, 25, 27, 27, 28, 29, 30, 32, 36, 38, 40, 40, 41, 41, 42, 42, 42, 43, 43, 43, 44, 44, 45, 46, 46, 46, 47, 48, 48, 50, 50, 51, 52, 52, 55, 55, 56, 58, 59, 59, 59, 60, 60, 61, 62, 62, 63, 64, 65, 66, 66, 67, 67, 68, 68, 70, 71, 72, 73, 73, 76, 76, 76, 81, 82, 83], \"xaxis\": \"x\", \"y\": [112, 105, 105, 106, 101, 104, 100, 100, 111, 101, 124, 101, 119, 118, 103, 105, 112, 106, 101, 101, 122, 100, 109, 120, 101, 101, 109, 107, 102, 108, 120, 117, 105, 115, 115, 110, 101, 120, 103, 122, 110, 106, 113, 108, 112, 102, 119, 103, 102, 109, 119, 100, 106, 120, 104, 125, 121, 118, 111, 111, 115, 120, 106, 118, 100, 112, 113, 121, 112, 105], \"yaxis\": \"y\"}, {\"hoverlabel\": {\"namelength\": 0}, \"hovertemplate\": \"Diabetes=Diabetic<br>Age=%{x}<br>Glucose=%{y}\", \"legendgroup\": \"Diabetes=Diabetic\", \"marker\": {\"color\": \"#00cc96\", \"symbol\": \"circle\"}, \"mode\": \"markers\", \"name\": \"Diabetes=Diabetic\", \"showlegend\": true, \"type\": \"scatter\", \"x\": [26, 29, 31, 35, 36, 36, 37, 38, 38, 38, 40, 43, 44, 45, 45, 47, 49, 49, 50, 50, 50, 51, 51, 53, 53, 54, 55, 56, 56, 57, 58, 59, 59, 59, 60, 60, 60, 61, 61, 62, 62, 63, 63, 64, 64, 65, 65, 66, 66, 68, 70, 71, 74, 75, 76, 78, 79, 80, 84, 91], \"xaxis\": \"x\", \"y\": [138, 269, 155, 126, 153, 197, 130, 128, 155, 299, 133, 228, 187, 155, 130, 225, 196, 233, 173, 255, 385, 182, 185, 297, 369, 193, 236, 173, 206, 176, 239, 126, 248, 267, 270, 270, 223, 225, 330, 128, 206, 145, 251, 177, 197, 172, 341, 174, 173, 371, 206, 203, 262, 342, 131, 171, 235, 161, 279, 184], \"yaxis\": \"y\"}],\n",
              "                        {\"legend\": {\"tracegroupgap\": 0}, \"margin\": {\"t\": 60}, \"template\": {\"data\": {\"bar\": [{\"error_x\": {\"color\": \"#f2f5fa\"}, \"error_y\": {\"color\": \"#f2f5fa\"}, \"marker\": {\"line\": {\"color\": \"rgb(17,17,17)\", \"width\": 0.5}}, \"type\": \"bar\"}], \"barpolar\": [{\"marker\": {\"line\": {\"color\": \"rgb(17,17,17)\", \"width\": 0.5}}, \"type\": \"barpolar\"}], \"carpet\": [{\"aaxis\": {\"endlinecolor\": \"#A2B1C6\", \"gridcolor\": \"#506784\", \"linecolor\": \"#506784\", \"minorgridcolor\": \"#506784\", \"startlinecolor\": \"#A2B1C6\"}, \"baxis\": {\"endlinecolor\": \"#A2B1C6\", \"gridcolor\": \"#506784\", \"linecolor\": \"#506784\", \"minorgridcolor\": \"#506784\", \"startlinecolor\": \"#A2B1C6\"}, \"type\": \"carpet\"}], \"choropleth\": [{\"colorbar\": {\"outlinewidth\": 0, \"ticks\": \"\"}, \"type\": \"choropleth\"}], \"contour\": [{\"colorbar\": {\"outlinewidth\": 0, \"ticks\": \"\"}, \"colorscale\": [[0.0, \"#0d0887\"], [0.1111111111111111, \"#46039f\"], [0.2222222222222222, \"#7201a8\"], [0.3333333333333333, \"#9c179e\"], [0.4444444444444444, \"#bd3786\"], [0.5555555555555556, \"#d8576b\"], [0.6666666666666666, \"#ed7953\"], [0.7777777777777778, \"#fb9f3a\"], [0.8888888888888888, \"#fdca26\"], [1.0, \"#f0f921\"]], \"type\": \"contour\"}], \"contourcarpet\": [{\"colorbar\": {\"outlinewidth\": 0, \"ticks\": \"\"}, \"type\": \"contourcarpet\"}], \"heatmap\": [{\"colorbar\": {\"outlinewidth\": 0, \"ticks\": \"\"}, \"colorscale\": [[0.0, \"#0d0887\"], [0.1111111111111111, \"#46039f\"], [0.2222222222222222, \"#7201a8\"], [0.3333333333333333, \"#9c179e\"], [0.4444444444444444, \"#bd3786\"], [0.5555555555555556, \"#d8576b\"], [0.6666666666666666, \"#ed7953\"], [0.7777777777777778, \"#fb9f3a\"], [0.8888888888888888, \"#fdca26\"], [1.0, \"#f0f921\"]], \"type\": \"heatmap\"}], \"heatmapgl\": [{\"colorbar\": {\"outlinewidth\": 0, \"ticks\": \"\"}, \"colorscale\": [[0.0, \"#0d0887\"], [0.1111111111111111, \"#46039f\"], [0.2222222222222222, \"#7201a8\"], [0.3333333333333333, \"#9c179e\"], [0.4444444444444444, \"#bd3786\"], [0.5555555555555556, \"#d8576b\"], [0.6666666666666666, \"#ed7953\"], [0.7777777777777778, \"#fb9f3a\"], [0.8888888888888888, \"#fdca26\"], [1.0, \"#f0f921\"]], \"type\": \"heatmapgl\"}], \"histogram\": [{\"marker\": {\"colorbar\": {\"outlinewidth\": 0, \"ticks\": \"\"}}, \"type\": \"histogram\"}], \"histogram2d\": [{\"colorbar\": {\"outlinewidth\": 0, \"ticks\": \"\"}, \"colorscale\": [[0.0, \"#0d0887\"], [0.1111111111111111, \"#46039f\"], [0.2222222222222222, \"#7201a8\"], [0.3333333333333333, \"#9c179e\"], [0.4444444444444444, \"#bd3786\"], [0.5555555555555556, \"#d8576b\"], [0.6666666666666666, \"#ed7953\"], [0.7777777777777778, \"#fb9f3a\"], [0.8888888888888888, \"#fdca26\"], [1.0, \"#f0f921\"]], \"type\": \"histogram2d\"}], \"histogram2dcontour\": [{\"colorbar\": {\"outlinewidth\": 0, \"ticks\": \"\"}, \"colorscale\": [[0.0, \"#0d0887\"], [0.1111111111111111, \"#46039f\"], [0.2222222222222222, \"#7201a8\"], [0.3333333333333333, \"#9c179e\"], [0.4444444444444444, \"#bd3786\"], [0.5555555555555556, \"#d8576b\"], [0.6666666666666666, \"#ed7953\"], [0.7777777777777778, \"#fb9f3a\"], [0.8888888888888888, \"#fdca26\"], [1.0, \"#f0f921\"]], \"type\": \"histogram2dcontour\"}], \"mesh3d\": [{\"colorbar\": {\"outlinewidth\": 0, \"ticks\": \"\"}, \"type\": \"mesh3d\"}], \"parcoords\": [{\"line\": {\"colorbar\": {\"outlinewidth\": 0, \"ticks\": \"\"}}, \"type\": \"parcoords\"}], \"pie\": [{\"automargin\": true, \"type\": \"pie\"}], \"scatter\": [{\"marker\": {\"line\": {\"color\": \"#283442\"}}, \"type\": \"scatter\"}], \"scatter3d\": [{\"line\": {\"colorbar\": {\"outlinewidth\": 0, \"ticks\": \"\"}}, \"marker\": {\"colorbar\": {\"outlinewidth\": 0, \"ticks\": \"\"}}, \"type\": \"scatter3d\"}], \"scattercarpet\": [{\"marker\": {\"colorbar\": {\"outlinewidth\": 0, \"ticks\": \"\"}}, \"type\": \"scattercarpet\"}], \"scattergeo\": [{\"marker\": {\"colorbar\": {\"outlinewidth\": 0, \"ticks\": \"\"}}, \"type\": \"scattergeo\"}], \"scattergl\": [{\"marker\": {\"line\": {\"color\": \"#283442\"}}, \"type\": \"scattergl\"}], \"scattermapbox\": [{\"marker\": {\"colorbar\": {\"outlinewidth\": 0, \"ticks\": \"\"}}, \"type\": \"scattermapbox\"}], \"scatterpolar\": [{\"marker\": {\"colorbar\": {\"outlinewidth\": 0, \"ticks\": \"\"}}, \"type\": \"scatterpolar\"}], \"scatterpolargl\": [{\"marker\": {\"colorbar\": {\"outlinewidth\": 0, \"ticks\": \"\"}}, \"type\": \"scatterpolargl\"}], \"scatterternary\": [{\"marker\": {\"colorbar\": {\"outlinewidth\": 0, \"ticks\": \"\"}}, \"type\": \"scatterternary\"}], \"surface\": [{\"colorbar\": {\"outlinewidth\": 0, \"ticks\": \"\"}, \"colorscale\": [[0.0, \"#0d0887\"], [0.1111111111111111, \"#46039f\"], [0.2222222222222222, \"#7201a8\"], [0.3333333333333333, \"#9c179e\"], [0.4444444444444444, \"#bd3786\"], [0.5555555555555556, \"#d8576b\"], [0.6666666666666666, \"#ed7953\"], [0.7777777777777778, \"#fb9f3a\"], [0.8888888888888888, \"#fdca26\"], [1.0, \"#f0f921\"]], \"type\": \"surface\"}], \"table\": [{\"cells\": {\"fill\": {\"color\": \"#506784\"}, \"line\": {\"color\": \"rgb(17,17,17)\"}}, \"header\": {\"fill\": {\"color\": \"#2a3f5f\"}, \"line\": {\"color\": \"rgb(17,17,17)\"}}, \"type\": \"table\"}]}, \"layout\": {\"annotationdefaults\": {\"arrowcolor\": \"#f2f5fa\", \"arrowhead\": 0, \"arrowwidth\": 1}, \"coloraxis\": {\"colorbar\": {\"outlinewidth\": 0, \"ticks\": \"\"}}, \"colorscale\": {\"diverging\": [[0, \"#8e0152\"], [0.1, \"#c51b7d\"], [0.2, \"#de77ae\"], [0.3, \"#f1b6da\"], [0.4, \"#fde0ef\"], [0.5, \"#f7f7f7\"], [0.6, \"#e6f5d0\"], [0.7, \"#b8e186\"], [0.8, \"#7fbc41\"], [0.9, \"#4d9221\"], [1, \"#276419\"]], \"sequential\": [[0.0, \"#0d0887\"], [0.1111111111111111, \"#46039f\"], [0.2222222222222222, \"#7201a8\"], [0.3333333333333333, \"#9c179e\"], [0.4444444444444444, \"#bd3786\"], [0.5555555555555556, \"#d8576b\"], [0.6666666666666666, \"#ed7953\"], [0.7777777777777778, \"#fb9f3a\"], [0.8888888888888888, \"#fdca26\"], [1.0, \"#f0f921\"]], \"sequentialminus\": [[0.0, \"#0d0887\"], [0.1111111111111111, \"#46039f\"], [0.2222222222222222, \"#7201a8\"], [0.3333333333333333, \"#9c179e\"], [0.4444444444444444, \"#bd3786\"], [0.5555555555555556, \"#d8576b\"], [0.6666666666666666, \"#ed7953\"], [0.7777777777777778, \"#fb9f3a\"], [0.8888888888888888, \"#fdca26\"], [1.0, \"#f0f921\"]]}, \"colorway\": [\"#636efa\", \"#EF553B\", \"#00cc96\", \"#ab63fa\", \"#FFA15A\", \"#19d3f3\", \"#FF6692\", \"#B6E880\", \"#FF97FF\", \"#FECB52\"], \"font\": {\"color\": \"#f2f5fa\"}, \"geo\": {\"bgcolor\": \"rgb(17,17,17)\", \"lakecolor\": \"rgb(17,17,17)\", \"landcolor\": \"rgb(17,17,17)\", \"showlakes\": true, \"showland\": true, \"subunitcolor\": \"#506784\"}, \"hoverlabel\": {\"align\": \"left\"}, \"hovermode\": \"closest\", \"mapbox\": {\"style\": \"dark\"}, \"paper_bgcolor\": \"rgb(17,17,17)\", \"plot_bgcolor\": \"rgb(17,17,17)\", \"polar\": {\"angularaxis\": {\"gridcolor\": \"#506784\", \"linecolor\": \"#506784\", \"ticks\": \"\"}, \"bgcolor\": \"rgb(17,17,17)\", \"radialaxis\": {\"gridcolor\": \"#506784\", \"linecolor\": \"#506784\", \"ticks\": \"\"}}, \"scene\": {\"xaxis\": {\"backgroundcolor\": \"rgb(17,17,17)\", \"gridcolor\": \"#506784\", \"gridwidth\": 2, \"linecolor\": \"#506784\", \"showbackground\": true, \"ticks\": \"\", \"zerolinecolor\": \"#C8D4E3\"}, \"yaxis\": {\"backgroundcolor\": \"rgb(17,17,17)\", \"gridcolor\": \"#506784\", \"gridwidth\": 2, \"linecolor\": \"#506784\", \"showbackground\": true, \"ticks\": \"\", \"zerolinecolor\": \"#C8D4E3\"}, \"zaxis\": {\"backgroundcolor\": \"rgb(17,17,17)\", \"gridcolor\": \"#506784\", \"gridwidth\": 2, \"linecolor\": \"#506784\", \"showbackground\": true, \"ticks\": \"\", \"zerolinecolor\": \"#C8D4E3\"}}, \"shapedefaults\": {\"line\": {\"color\": \"#f2f5fa\"}}, \"sliderdefaults\": {\"bgcolor\": \"#C8D4E3\", \"bordercolor\": \"rgb(17,17,17)\", \"borderwidth\": 1, \"tickwidth\": 0}, \"ternary\": {\"aaxis\": {\"gridcolor\": \"#506784\", \"linecolor\": \"#506784\", \"ticks\": \"\"}, \"baxis\": {\"gridcolor\": \"#506784\", \"linecolor\": \"#506784\", \"ticks\": \"\"}, \"bgcolor\": \"rgb(17,17,17)\", \"caxis\": {\"gridcolor\": \"#506784\", \"linecolor\": \"#506784\", \"ticks\": \"\"}}, \"title\": {\"x\": 0.05}, \"updatemenudefaults\": {\"bgcolor\": \"#506784\", \"borderwidth\": 0}, \"xaxis\": {\"automargin\": true, \"gridcolor\": \"#283442\", \"linecolor\": \"#506784\", \"ticks\": \"\", \"title\": {\"standoff\": 15}, \"zerolinecolor\": \"#283442\", \"zerolinewidth\": 2}, \"yaxis\": {\"automargin\": true, \"gridcolor\": \"#283442\", \"linecolor\": \"#506784\", \"ticks\": \"\", \"title\": {\"standoff\": 15}, \"zerolinecolor\": \"#283442\", \"zerolinewidth\": 2}}}, \"title\": {\"text\": \"Age vs Glucose\"}, \"xaxis\": {\"anchor\": \"y\", \"domain\": [0.0, 1.0], \"title\": {\"text\": \"Age\"}}, \"yaxis\": {\"anchor\": \"x\", \"domain\": [0.0, 1.0], \"title\": {\"text\": \"Glucose\"}}},\n",
              "                        {\"responsive\": true}\n",
              "                    ).then(function(){\n",
              "                            \n",
              "var gd = document.getElementById('f310373f-d623-4618-b491-39e868738e23');\n",
              "var x = new MutationObserver(function (mutations, observer) {{\n",
              "        var display = window.getComputedStyle(gd).display;\n",
              "        if (!display || display === 'none') {{\n",
              "            console.log([gd, 'removed!']);\n",
              "            Plotly.purge(gd);\n",
              "            observer.disconnect();\n",
              "        }}\n",
              "}});\n",
              "\n",
              "// Listen for the removal of the full notebook cells\n",
              "var notebookContainer = gd.closest('#notebook-container');\n",
              "if (notebookContainer) {{\n",
              "    x.observe(notebookContainer, {childList: true});\n",
              "}}\n",
              "\n",
              "// Listen for the clearing of the current output cell\n",
              "var outputEl = gd.closest('.output');\n",
              "if (outputEl) {{\n",
              "    x.observe(outputEl, {childList: true});\n",
              "}}\n",
              "\n",
              "                        })\n",
              "                };\n",
              "                \n",
              "            </script>\n",
              "        </div>\n",
              "</body>\n",
              "</html>"
            ]
          },
          "metadata": {}
        }
      ]
    },
    {
      "cell_type": "markdown",
      "source": [
        "There is a clear seperation between patients when observing their glucose levels. Based on our data, it seems that age does not have an affect glucose levels. But based on research, aging causes a decrease in glucose tolerence, meaning patients at an advanced age can experience an increase in glucose levels. "
      ],
      "metadata": {
        "id": "r7rr5qUIe99F"
      }
    },
    {
      "cell_type": "code",
      "source": [
        "fig = px.scatter(df, x=\"Age\", y=\"Waist/hip ratio\", color=\"Diabetes\")\n",
        "fig.update_layout(\n",
        "    template = template, \n",
        "    title = \"Age vs Waist/hip ratio\",\n",
        "\n",
        ")\n",
        "fig.show(renderer=\"colab\")"
      ],
      "metadata": {
        "colab": {
          "base_uri": "https://localhost:8080/",
          "height": 542
        },
        "id": "yMDfridchmlF",
        "outputId": "b3c68ace-a1ce-4697-93ea-75f5fe26e9bb"
      },
      "execution_count": null,
      "outputs": [
        {
          "output_type": "display_data",
          "data": {
            "text/html": [
              "<html>\n",
              "<head><meta charset=\"utf-8\" /></head>\n",
              "<body>\n",
              "    <div>\n",
              "            <script src=\"https://cdnjs.cloudflare.com/ajax/libs/mathjax/2.7.5/MathJax.js?config=TeX-AMS-MML_SVG\"></script><script type=\"text/javascript\">if (window.MathJax) {MathJax.Hub.Config({SVG: {font: \"STIX-Web\"}});}</script>\n",
              "                <script type=\"text/javascript\">window.PlotlyConfig = {MathJaxConfig: 'local'};</script>\n",
              "        <script src=\"https://cdn.plot.ly/plotly-latest.min.js\"></script>    \n",
              "            <div id=\"92da2e04-2bb1-44a5-b11c-d8b3cf5756e4\" class=\"plotly-graph-div\" style=\"height:525px; width:100%;\"></div>\n",
              "            <script type=\"text/javascript\">\n",
              "                \n",
              "                    window.PLOTLYENV=window.PLOTLYENV || {};\n",
              "                    \n",
              "                if (document.getElementById(\"92da2e04-2bb1-44a5-b11c-d8b3cf5756e4\")) {\n",
              "                    Plotly.newPlot(\n",
              "                        '92da2e04-2bb1-44a5-b11c-d8b3cf5756e4',\n",
              "                        [{\"hoverlabel\": {\"namelength\": 0}, \"hovertemplate\": \"Diabetes=Non-Diabetic<br>Age=%{x}<br>Waist/hip ratio=%{y}\", \"legendgroup\": \"Diabetes=Non-Diabetic\", \"marker\": {\"color\": \"#636efa\", \"symbol\": \"circle\"}, \"mode\": \"markers\", \"name\": \"Diabetes=Non-Diabetic\", \"showlegend\": true, \"type\": \"scatter\", \"x\": [19, 19, 20, 20, 20, 20, 20, 20, 21, 21, 21, 21, 21, 21, 22, 22, 22, 22, 22, 23, 23, 23, 23, 23, 23, 23, 24, 25, 25, 26, 26, 26, 26, 26, 27, 27, 27, 27, 27, 27, 27, 28, 28, 28, 28, 28, 28, 28, 29, 29, 29, 29, 29, 30, 30, 30, 30, 30, 30, 30, 30, 31, 31, 31, 31, 31, 31, 31, 31, 32, 32, 32, 33, 33, 33, 33, 33, 33, 34, 34, 34, 34, 34, 34, 34, 35, 35, 35, 35, 36, 36, 36, 36, 36, 36, 36, 36, 36, 36, 37, 37, 37, 37, 37, 37, 37, 37, 37, 37, 38, 38, 38, 38, 38, 38, 38, 39, 39, 40, 40, 40, 40, 40, 40, 40, 40, 40, 40, 40, 40, 40, 41, 41, 41, 41, 41, 41, 41, 41, 41, 41, 42, 42, 42, 42, 43, 43, 43, 43, 43, 43, 43, 43, 44, 44, 44, 45, 45, 45, 45, 45, 46, 47, 47, 47, 47, 47, 48, 48, 48, 48, 48, 49, 49, 50, 50, 50, 50, 50, 51, 51, 51, 51, 51, 52, 52, 52, 52, 52, 52, 53, 53, 53, 53, 54, 54, 54, 54, 55, 55, 55, 55, 56, 57, 57, 58, 58, 58, 58, 59, 59, 60, 60, 60, 60, 60, 61, 61, 61, 61, 62, 63, 63, 63, 63, 63, 63, 63, 63, 64, 64, 65, 65, 65, 66, 66, 66, 67, 67, 68, 69, 70, 70, 71, 71, 72, 72, 72, 74, 74, 75, 76, 78, 78, 78, 79, 80, 82, 89, 92], \"xaxis\": \"x\", \"y\": [0.84, 0.83, 0.89, 0.79, 0.82, 0.93, 0.84, 0.81, 0.91, 0.72, 0.79, 0.91, 0.87, 0.77, 0.8, 0.92, 0.92, 0.8, 0.88, 0.88, 1.02, 0.91, 0.83, 0.96, 0.8, 0.94, 0.87, 0.94, 0.9, 0.86, 0.8, 0.93, 0.98, 0.85, 0.76, 0.85, 0.83, 0.79, 0.8, 0.87, 0.95, 0.91, 0.83, 0.92, 0.91, 0.88, 0.84, 0.79, 0.97, 0.7, 0.83, 0.87, 0.96, 0.94, 0.83, 0.85, 0.82, 0.79, 0.79, 0.94, 0.85, 0.87, 0.86, 0.73, 0.89, 0.68, 0.87, 0.98, 0.89, 0.83, 0.79, 0.78, 0.9, 0.91, 0.9, 0.83, 0.92, 0.72, 0.79, 0.85, 0.86, 0.98, 0.74, 0.79, 0.86, 0.89, 0.86, 0.82, 0.84, 0.91, 0.95, 0.87, 0.9, 0.86, 0.92, 0.82, 0.85, 0.9, 0.88, 0.87, 0.84, 0.76, 0.81, 0.86, 0.94, 0.85, 0.88, 0.91, 0.82, 0.89, 0.77, 0.95, 0.8, 0.79, 0.85, 0.83, 0.85, 0.79, 0.79, 0.86, 0.97, 0.95, 0.86, 0.91, 1.05, 0.86, 0.83, 0.8, 0.92, 0.93, 0.91, 0.95, 0.87, 0.76, 0.78, 0.78, 0.8, 0.85, 0.74, 0.93, 0.95, 0.95, 0.8, 0.9, 0.86, 0.9, 0.91, 0.94, 0.93, 0.78, 0.82, 0.78, 0.89, 0.89, 0.84, 0.86, 0.88, 0.89, 0.89, 0.85, 0.87, 0.76, 0.89, 0.98, 0.83, 0.9, 0.85, 0.82, 0.91, 0.84, 0.78, 0.9, 0.98, 0.82, 0.9, 0.86, 0.78, 0.83, 0.89, 0.92, 0.74, 0.76, 0.93, 0.9, 0.93, 0.85, 0.91, 0.83, 0.9, 0.89, 0.83, 0.79, 0.83, 0.93, 0.88, 0.81, 0.85, 0.86, 0.91, 0.97, 0.83, 0.9, 0.92, 0.84, 0.86, 0.86, 0.88, 0.93, 0.88, 0.77, 0.84, 0.9, 0.78, 0.87, 0.94, 0.88, 0.8, 0.87, 1.14, 0.87, 1.06, 0.9, 0.88, 0.87, 0.93, 1.04, 0.83, 0.83, 1.03, 0.94, 1.07, 0.88, 0.91, 1.08, 0.94, 0.98, 1.09, 0.87, 0.9, 0.88, 0.94, 0.87, 1.02, 0.8, 0.95, 0.83, 1.0, 0.98, 0.95, 0.89, 1.05, 0.9, 0.97, 0.97, 0.8, 0.89, 0.98, 0.89, 0.76, 1.0], \"yaxis\": \"y\"}, {\"hoverlabel\": {\"namelength\": 0}, \"hovertemplate\": \"Diabetes=Prediabetic<br>Age=%{x}<br>Waist/hip ratio=%{y}\", \"legendgroup\": \"Diabetes=Prediabetic\", \"marker\": {\"color\": \"#EF553B\", \"symbol\": \"circle\"}, \"mode\": \"markers\", \"name\": \"Diabetes=Prediabetic\", \"showlegend\": true, \"type\": \"scatter\", \"x\": [20, 20, 20, 20, 25, 25, 27, 27, 28, 29, 30, 32, 36, 38, 40, 40, 41, 41, 42, 42, 42, 43, 43, 43, 44, 44, 45, 46, 46, 46, 47, 48, 48, 50, 50, 51, 52, 52, 55, 55, 56, 58, 59, 59, 59, 60, 60, 61, 62, 62, 63, 64, 65, 66, 66, 67, 67, 68, 68, 70, 71, 72, 73, 73, 76, 76, 76, 81, 82, 83], \"xaxis\": \"x\", \"y\": [0.79, 0.74, 0.9, 0.84, 0.81, 0.95, 0.91, 0.94, 0.98, 0.9, 0.84, 0.89, 0.88, 0.84, 0.78, 0.82, 0.89, 0.97, 0.73, 0.93, 0.83, 0.93, 0.85, 0.84, 0.92, 0.93, 0.84, 0.94, 0.83, 0.82, 0.9, 0.83, 0.9, 0.95, 0.87, 0.88, 0.86, 0.81, 0.81, 0.9, 0.89, 1.05, 1.03, 0.88, 0.93, 0.95, 0.85, 0.91, 0.9, 0.89, 0.81, 0.94, 0.75, 0.82, 0.98, 0.84, 0.92, 0.84, 0.78, 0.94, 0.94, 0.98, 0.93, 0.86, 0.98, 0.88, 0.88, 0.84, 0.86, 0.88], \"yaxis\": \"y\"}, {\"hoverlabel\": {\"namelength\": 0}, \"hovertemplate\": \"Diabetes=Diabetic<br>Age=%{x}<br>Waist/hip ratio=%{y}\", \"legendgroup\": \"Diabetes=Diabetic\", \"marker\": {\"color\": \"#00cc96\", \"symbol\": \"circle\"}, \"mode\": \"markers\", \"name\": \"Diabetes=Diabetic\", \"showlegend\": true, \"type\": \"scatter\", \"x\": [26, 29, 31, 35, 36, 36, 37, 38, 38, 38, 40, 43, 44, 45, 45, 47, 49, 49, 50, 50, 50, 51, 51, 53, 53, 54, 55, 56, 56, 57, 58, 59, 59, 59, 60, 60, 60, 61, 61, 62, 62, 63, 63, 64, 64, 65, 65, 66, 66, 68, 70, 71, 74, 75, 76, 78, 79, 80, 84, 91], \"xaxis\": \"x\", \"y\": [0.83, 0.83, 0.95, 0.95, 0.9, 1.04, 0.82, 0.84, 0.92, 0.87, 0.85, 0.82, 0.94, 0.93, 0.91, 0.89, 1.09, 0.91, 0.8, 1.14, 0.9, 0.79, 0.9, 0.96, 0.9, 1.0, 1.0, 0.82, 0.97, 0.92, 0.81, 0.87, 0.84, 0.95, 0.86, 0.96, 0.98, 0.95, 0.95, 0.93, 0.9, 0.92, 0.98, 0.94, 0.8, 0.88, 0.98, 0.94, 0.75, 0.86, 0.94, 0.81, 0.88, 0.98, 0.94, 1.0, 0.95, 1.07, 0.85, 0.92], \"yaxis\": \"y\"}],\n",
              "                        {\"legend\": {\"tracegroupgap\": 0}, \"margin\": {\"t\": 60}, \"template\": {\"data\": {\"bar\": [{\"error_x\": {\"color\": \"#f2f5fa\"}, \"error_y\": {\"color\": \"#f2f5fa\"}, \"marker\": {\"line\": {\"color\": \"rgb(17,17,17)\", \"width\": 0.5}}, \"type\": \"bar\"}], \"barpolar\": [{\"marker\": {\"line\": {\"color\": \"rgb(17,17,17)\", \"width\": 0.5}}, \"type\": \"barpolar\"}], \"carpet\": [{\"aaxis\": {\"endlinecolor\": \"#A2B1C6\", \"gridcolor\": \"#506784\", \"linecolor\": \"#506784\", \"minorgridcolor\": \"#506784\", \"startlinecolor\": \"#A2B1C6\"}, \"baxis\": {\"endlinecolor\": \"#A2B1C6\", \"gridcolor\": \"#506784\", \"linecolor\": \"#506784\", \"minorgridcolor\": \"#506784\", \"startlinecolor\": \"#A2B1C6\"}, \"type\": \"carpet\"}], \"choropleth\": [{\"colorbar\": {\"outlinewidth\": 0, \"ticks\": \"\"}, \"type\": \"choropleth\"}], \"contour\": [{\"colorbar\": {\"outlinewidth\": 0, \"ticks\": \"\"}, \"colorscale\": [[0.0, \"#0d0887\"], [0.1111111111111111, \"#46039f\"], [0.2222222222222222, \"#7201a8\"], [0.3333333333333333, \"#9c179e\"], [0.4444444444444444, \"#bd3786\"], [0.5555555555555556, \"#d8576b\"], [0.6666666666666666, \"#ed7953\"], [0.7777777777777778, \"#fb9f3a\"], [0.8888888888888888, \"#fdca26\"], [1.0, \"#f0f921\"]], \"type\": \"contour\"}], \"contourcarpet\": [{\"colorbar\": {\"outlinewidth\": 0, \"ticks\": \"\"}, \"type\": \"contourcarpet\"}], \"heatmap\": [{\"colorbar\": {\"outlinewidth\": 0, \"ticks\": \"\"}, \"colorscale\": [[0.0, \"#0d0887\"], [0.1111111111111111, \"#46039f\"], [0.2222222222222222, \"#7201a8\"], [0.3333333333333333, \"#9c179e\"], [0.4444444444444444, \"#bd3786\"], [0.5555555555555556, \"#d8576b\"], [0.6666666666666666, \"#ed7953\"], [0.7777777777777778, \"#fb9f3a\"], [0.8888888888888888, \"#fdca26\"], [1.0, \"#f0f921\"]], \"type\": \"heatmap\"}], \"heatmapgl\": [{\"colorbar\": {\"outlinewidth\": 0, \"ticks\": \"\"}, \"colorscale\": [[0.0, \"#0d0887\"], [0.1111111111111111, \"#46039f\"], [0.2222222222222222, \"#7201a8\"], [0.3333333333333333, \"#9c179e\"], [0.4444444444444444, \"#bd3786\"], [0.5555555555555556, \"#d8576b\"], [0.6666666666666666, \"#ed7953\"], [0.7777777777777778, \"#fb9f3a\"], [0.8888888888888888, \"#fdca26\"], [1.0, \"#f0f921\"]], \"type\": \"heatmapgl\"}], \"histogram\": [{\"marker\": {\"colorbar\": {\"outlinewidth\": 0, \"ticks\": \"\"}}, \"type\": \"histogram\"}], \"histogram2d\": [{\"colorbar\": {\"outlinewidth\": 0, \"ticks\": \"\"}, \"colorscale\": [[0.0, \"#0d0887\"], [0.1111111111111111, \"#46039f\"], [0.2222222222222222, \"#7201a8\"], [0.3333333333333333, \"#9c179e\"], [0.4444444444444444, \"#bd3786\"], [0.5555555555555556, \"#d8576b\"], [0.6666666666666666, \"#ed7953\"], [0.7777777777777778, \"#fb9f3a\"], [0.8888888888888888, \"#fdca26\"], [1.0, \"#f0f921\"]], \"type\": \"histogram2d\"}], \"histogram2dcontour\": [{\"colorbar\": {\"outlinewidth\": 0, \"ticks\": \"\"}, \"colorscale\": [[0.0, \"#0d0887\"], [0.1111111111111111, \"#46039f\"], [0.2222222222222222, \"#7201a8\"], [0.3333333333333333, \"#9c179e\"], [0.4444444444444444, \"#bd3786\"], [0.5555555555555556, \"#d8576b\"], [0.6666666666666666, \"#ed7953\"], [0.7777777777777778, \"#fb9f3a\"], [0.8888888888888888, \"#fdca26\"], [1.0, \"#f0f921\"]], \"type\": \"histogram2dcontour\"}], \"mesh3d\": [{\"colorbar\": {\"outlinewidth\": 0, \"ticks\": \"\"}, \"type\": \"mesh3d\"}], \"parcoords\": [{\"line\": {\"colorbar\": {\"outlinewidth\": 0, \"ticks\": \"\"}}, \"type\": \"parcoords\"}], \"pie\": [{\"automargin\": true, \"type\": \"pie\"}], \"scatter\": [{\"marker\": {\"line\": {\"color\": \"#283442\"}}, \"type\": \"scatter\"}], \"scatter3d\": [{\"line\": {\"colorbar\": {\"outlinewidth\": 0, \"ticks\": \"\"}}, \"marker\": {\"colorbar\": {\"outlinewidth\": 0, \"ticks\": \"\"}}, \"type\": \"scatter3d\"}], \"scattercarpet\": [{\"marker\": {\"colorbar\": {\"outlinewidth\": 0, \"ticks\": \"\"}}, \"type\": \"scattercarpet\"}], \"scattergeo\": [{\"marker\": {\"colorbar\": {\"outlinewidth\": 0, \"ticks\": \"\"}}, \"type\": \"scattergeo\"}], \"scattergl\": [{\"marker\": {\"line\": {\"color\": \"#283442\"}}, \"type\": \"scattergl\"}], \"scattermapbox\": [{\"marker\": {\"colorbar\": {\"outlinewidth\": 0, \"ticks\": \"\"}}, \"type\": \"scattermapbox\"}], \"scatterpolar\": [{\"marker\": {\"colorbar\": {\"outlinewidth\": 0, \"ticks\": \"\"}}, \"type\": \"scatterpolar\"}], \"scatterpolargl\": [{\"marker\": {\"colorbar\": {\"outlinewidth\": 0, \"ticks\": \"\"}}, \"type\": \"scatterpolargl\"}], \"scatterternary\": [{\"marker\": {\"colorbar\": {\"outlinewidth\": 0, \"ticks\": \"\"}}, \"type\": \"scatterternary\"}], \"surface\": [{\"colorbar\": {\"outlinewidth\": 0, \"ticks\": \"\"}, \"colorscale\": [[0.0, \"#0d0887\"], [0.1111111111111111, \"#46039f\"], [0.2222222222222222, \"#7201a8\"], [0.3333333333333333, \"#9c179e\"], [0.4444444444444444, \"#bd3786\"], [0.5555555555555556, \"#d8576b\"], [0.6666666666666666, \"#ed7953\"], [0.7777777777777778, \"#fb9f3a\"], [0.8888888888888888, \"#fdca26\"], [1.0, \"#f0f921\"]], \"type\": \"surface\"}], \"table\": [{\"cells\": {\"fill\": {\"color\": \"#506784\"}, \"line\": {\"color\": \"rgb(17,17,17)\"}}, \"header\": {\"fill\": {\"color\": \"#2a3f5f\"}, \"line\": {\"color\": \"rgb(17,17,17)\"}}, \"type\": \"table\"}]}, \"layout\": {\"annotationdefaults\": {\"arrowcolor\": \"#f2f5fa\", \"arrowhead\": 0, \"arrowwidth\": 1}, \"coloraxis\": {\"colorbar\": {\"outlinewidth\": 0, \"ticks\": \"\"}}, \"colorscale\": {\"diverging\": [[0, \"#8e0152\"], [0.1, \"#c51b7d\"], [0.2, \"#de77ae\"], [0.3, \"#f1b6da\"], [0.4, \"#fde0ef\"], [0.5, \"#f7f7f7\"], [0.6, \"#e6f5d0\"], [0.7, \"#b8e186\"], [0.8, \"#7fbc41\"], [0.9, \"#4d9221\"], [1, \"#276419\"]], \"sequential\": [[0.0, \"#0d0887\"], [0.1111111111111111, \"#46039f\"], [0.2222222222222222, \"#7201a8\"], [0.3333333333333333, \"#9c179e\"], [0.4444444444444444, \"#bd3786\"], [0.5555555555555556, \"#d8576b\"], [0.6666666666666666, \"#ed7953\"], [0.7777777777777778, \"#fb9f3a\"], [0.8888888888888888, \"#fdca26\"], [1.0, \"#f0f921\"]], \"sequentialminus\": [[0.0, \"#0d0887\"], [0.1111111111111111, \"#46039f\"], [0.2222222222222222, \"#7201a8\"], [0.3333333333333333, \"#9c179e\"], [0.4444444444444444, \"#bd3786\"], [0.5555555555555556, \"#d8576b\"], [0.6666666666666666, \"#ed7953\"], [0.7777777777777778, \"#fb9f3a\"], [0.8888888888888888, \"#fdca26\"], [1.0, \"#f0f921\"]]}, \"colorway\": [\"#636efa\", \"#EF553B\", \"#00cc96\", \"#ab63fa\", \"#FFA15A\", \"#19d3f3\", \"#FF6692\", \"#B6E880\", \"#FF97FF\", \"#FECB52\"], \"font\": {\"color\": \"#f2f5fa\"}, \"geo\": {\"bgcolor\": \"rgb(17,17,17)\", \"lakecolor\": \"rgb(17,17,17)\", \"landcolor\": \"rgb(17,17,17)\", \"showlakes\": true, \"showland\": true, \"subunitcolor\": \"#506784\"}, \"hoverlabel\": {\"align\": \"left\"}, \"hovermode\": \"closest\", \"mapbox\": {\"style\": \"dark\"}, \"paper_bgcolor\": \"rgb(17,17,17)\", \"plot_bgcolor\": \"rgb(17,17,17)\", \"polar\": {\"angularaxis\": {\"gridcolor\": \"#506784\", \"linecolor\": \"#506784\", \"ticks\": \"\"}, \"bgcolor\": \"rgb(17,17,17)\", \"radialaxis\": {\"gridcolor\": \"#506784\", \"linecolor\": \"#506784\", \"ticks\": \"\"}}, \"scene\": {\"xaxis\": {\"backgroundcolor\": \"rgb(17,17,17)\", \"gridcolor\": \"#506784\", \"gridwidth\": 2, \"linecolor\": \"#506784\", \"showbackground\": true, \"ticks\": \"\", \"zerolinecolor\": \"#C8D4E3\"}, \"yaxis\": {\"backgroundcolor\": \"rgb(17,17,17)\", \"gridcolor\": \"#506784\", \"gridwidth\": 2, \"linecolor\": \"#506784\", \"showbackground\": true, \"ticks\": \"\", \"zerolinecolor\": \"#C8D4E3\"}, \"zaxis\": {\"backgroundcolor\": \"rgb(17,17,17)\", \"gridcolor\": \"#506784\", \"gridwidth\": 2, \"linecolor\": \"#506784\", \"showbackground\": true, \"ticks\": \"\", \"zerolinecolor\": \"#C8D4E3\"}}, \"shapedefaults\": {\"line\": {\"color\": \"#f2f5fa\"}}, \"sliderdefaults\": {\"bgcolor\": \"#C8D4E3\", \"bordercolor\": \"rgb(17,17,17)\", \"borderwidth\": 1, \"tickwidth\": 0}, \"ternary\": {\"aaxis\": {\"gridcolor\": \"#506784\", \"linecolor\": \"#506784\", \"ticks\": \"\"}, \"baxis\": {\"gridcolor\": \"#506784\", \"linecolor\": \"#506784\", \"ticks\": \"\"}, \"bgcolor\": \"rgb(17,17,17)\", \"caxis\": {\"gridcolor\": \"#506784\", \"linecolor\": \"#506784\", \"ticks\": \"\"}}, \"title\": {\"x\": 0.05}, \"updatemenudefaults\": {\"bgcolor\": \"#506784\", \"borderwidth\": 0}, \"xaxis\": {\"automargin\": true, \"gridcolor\": \"#283442\", \"linecolor\": \"#506784\", \"ticks\": \"\", \"title\": {\"standoff\": 15}, \"zerolinecolor\": \"#283442\", \"zerolinewidth\": 2}, \"yaxis\": {\"automargin\": true, \"gridcolor\": \"#283442\", \"linecolor\": \"#506784\", \"ticks\": \"\", \"title\": {\"standoff\": 15}, \"zerolinecolor\": \"#283442\", \"zerolinewidth\": 2}}}, \"title\": {\"text\": \"Age vs Waist/hip ratio\"}, \"xaxis\": {\"anchor\": \"y\", \"domain\": [0.0, 1.0], \"title\": {\"text\": \"Age\"}}, \"yaxis\": {\"anchor\": \"x\", \"domain\": [0.0, 1.0], \"title\": {\"text\": \"Waist/hip ratio\"}}},\n",
              "                        {\"responsive\": true}\n",
              "                    ).then(function(){\n",
              "                            \n",
              "var gd = document.getElementById('92da2e04-2bb1-44a5-b11c-d8b3cf5756e4');\n",
              "var x = new MutationObserver(function (mutations, observer) {{\n",
              "        var display = window.getComputedStyle(gd).display;\n",
              "        if (!display || display === 'none') {{\n",
              "            console.log([gd, 'removed!']);\n",
              "            Plotly.purge(gd);\n",
              "            observer.disconnect();\n",
              "        }}\n",
              "}});\n",
              "\n",
              "// Listen for the removal of the full notebook cells\n",
              "var notebookContainer = gd.closest('#notebook-container');\n",
              "if (notebookContainer) {{\n",
              "    x.observe(notebookContainer, {childList: true});\n",
              "}}\n",
              "\n",
              "// Listen for the clearing of the current output cell\n",
              "var outputEl = gd.closest('.output');\n",
              "if (outputEl) {{\n",
              "    x.observe(outputEl, {childList: true});\n",
              "}}\n",
              "\n",
              "                        })\n",
              "                };\n",
              "                \n",
              "            </script>\n",
              "        </div>\n",
              "</body>\n",
              "</html>"
            ]
          },
          "metadata": {}
        }
      ]
    },
    {
      "cell_type": "markdown",
      "source": [
        "Little to not correlation is observed above, but "
      ],
      "metadata": {
        "id": "7QCWuK1oiZkU"
      }
    },
    {
      "cell_type": "code",
      "source": [
        "fig = px.scatter(df, x=\"Chol/HDL ratio\", y=\"BMI\", color=\"Diabetes\")\n",
        "fig.update_layout(\n",
        "    template = template, \n",
        "    title = \"Chol/HDL ratio vs BMI\",\n",
        ")\n",
        "fig.show(renderer=\"colab\")"
      ],
      "metadata": {
        "colab": {
          "base_uri": "https://localhost:8080/",
          "height": 542
        },
        "id": "7Q4BQHYrf6gv",
        "outputId": "13aff2ab-2093-40c1-81b0-330c7f19f7f6"
      },
      "execution_count": null,
      "outputs": [
        {
          "output_type": "display_data",
          "data": {
            "text/html": [
              "<html>\n",
              "<head><meta charset=\"utf-8\" /></head>\n",
              "<body>\n",
              "    <div>\n",
              "            <script src=\"https://cdnjs.cloudflare.com/ajax/libs/mathjax/2.7.5/MathJax.js?config=TeX-AMS-MML_SVG\"></script><script type=\"text/javascript\">if (window.MathJax) {MathJax.Hub.Config({SVG: {font: \"STIX-Web\"}});}</script>\n",
              "                <script type=\"text/javascript\">window.PlotlyConfig = {MathJaxConfig: 'local'};</script>\n",
              "        <script src=\"https://cdn.plot.ly/plotly-latest.min.js\"></script>    \n",
              "            <div id=\"8ef91613-9217-470f-9bb8-27fb5be488dc\" class=\"plotly-graph-div\" style=\"height:525px; width:100%;\"></div>\n",
              "            <script type=\"text/javascript\">\n",
              "                \n",
              "                    window.PLOTLYENV=window.PLOTLYENV || {};\n",
              "                    \n",
              "                if (document.getElementById(\"8ef91613-9217-470f-9bb8-27fb5be488dc\")) {\n",
              "                    Plotly.newPlot(\n",
              "                        '8ef91613-9217-470f-9bb8-27fb5be488dc',\n",
              "                        [{\"hoverlabel\": {\"namelength\": 0}, \"hovertemplate\": \"Diabetes=Non-Diabetic<br>Chol/HDL ratio=%{x}<br>BMI=%{y}\", \"legendgroup\": \"Diabetes=Non-Diabetic\", \"marker\": {\"color\": \"#636efa\", \"symbol\": \"circle\"}, \"mode\": \"markers\", \"name\": \"Diabetes=Non-Diabetic\", \"showlegend\": true, \"type\": \"scatter\", \"x\": [3.9, 3.6, 4.0, 3.2, 2.4, 2.7, 3.0, 2.6, 3.9, 2.7, 2.9, 2.9, 2.7, 3.9, 3.6, 4.8, 3.6, 2.6, 2.7, 4.2, 6.2, 3.5, 5.3, 5.0, 3.2, 4.1, 5.1, 3.2, 3.4, 2.2, 3.0, 3.8, 6.2, 3.3, 2.8, 6.6, 4.3, 3.3, 2.9, 2.4, 6.0, 2.8, 3.2, 5.1, 3.7, 2.4, 4.0, 3.3, 3.6, 4.0, 3.4, 3.7, 6.9, 2.5, 3.9, 3.9, 5.1, 4.1, 2.7, 4.8, 4.7, 3.6, 3.2, 2.9, 4.2, 4.9, 2.5, 3.1, 6.9, 2.2, 3.4, 5.2, 4.5, 5.4, 3.1, 3.8, 2.5, 6.1, 3.4, 5.1, 3.6, 5.4, 5.3, 2.8, 4.8, 2.9, 3.9, 5.4, 4.3, 2.8, 5.4, 3.6, 6.4, 4.3, 5.1, 2.4, 3.0, 7.5, 5.4, 5.2, 6.4, 2.6, 4.6, 4.1, 4.6, 3.6, 5.8, 7.7, 5.9, 5.0, 5.4, 4.3, 5.3, 3.5, 3.7, 5.6, 4.1, 3.8, 3.9, 5.3, 4.7, 5.1, 3.9, 4.5, 3.2, 4.0, 5.1, 2.6, 5.8, 5.7, 3.3, 4.3, 4.7, 3.4, 1.9, 2.7, 4.1, 3.8, 3.8, 4.1, 7.9, 6.8, 4.3, 5.5, 3.6, 4.1, 5.8, 3.0, 4.1, 3.5, 4.9, 5.8, 4.3, 6.1, 5.7, 6.1, 2.6, 4.7, 6.0, 3.6, 2.2, 3.6, 3.1, 3.1, 3.0, 4.9, 4.6, 3.8, 5.3, 6.1, 2.3, 3.6, 5.3, 2.6, 3.3, 6.7, 3.1, 3.7, 5.1, 2.8, 5.3, 2.6, 8.9, 4.3, 4.7, 2.5, 2.8, 4.2, 3.0, 2.8, 3.3, 5.6, 6.3, 3.6, 4.3, 3.0, 4.7, 4.2, 3.8, 2.3, 3.3, 6.6, 6.5, 3.1, 3.0, 6.2, 8.7, 7.0, 6.2, 4.7, 3.8, 3.2, 4.6, 4.5, 3.5, 4.0, 3.9, 4.7, 4.9, 3.0, 5.8, 5.3, 3.4, 5.7, 3.1, 2.4, 5.4, 6.2, 4.6, 3.7, 8.9, 3.1, 4.7, 5.2, 2.9, 4.4, 6.9, 6.5, 4.5, 4.5, 4.3, 4.4, 3.7, 2.1, 3.4, 4.9, 5.3, 5.0, 5.5, 5.3, 6.4, 3.4, 2.2, 2.6, 5.1, 6.4, 3.3, 4.9, 2.6, 2.4], \"xaxis\": \"x\", \"y\": [22.5, 26.4, 29.3, 19.6, 20.2, 27.6, 21.0, 19.7, 28.1, 25.2, 22.9, 28.0, 22.7, 41.6, 20.2, 25.4, 31.1, 25.1, 25.8, 39.1, 38.6, 35.0, 24.4, 30.4, 20.0, 36.2, 21.3, 19.0, 22.6, 23.0, 25.4, 30.8, 35.1, 21.5, 21.1, 33.2, 34.9, 32.7, 29.0, 19.1, 31.7, 28.2, 19.2, 24.1, 35.4, 21.6, 34.3, 34.2, 25.8, 20.5, 18.1, 20.6, 37.4, 26.0, 25.3, 41.5, 22.4, 22.9, 27.5, 28.2, 24.4, 30.7, 26.5, 20.0, 35.5, 25.1, 23.4, 31.3, 29.4, 25.1, 32.7, 44.6, 26.1, 34.0, 45.5, 19.0, 24.1, 30.1, 23.1, 26.6, 26.5, 28.9, 32.2, 29.0, 29.3, 25.7, 23.6, 25.6, 21.8, 25.5, 30.1, 31.8, 27.0, 23.3, 22.1, 22.1, 23.1, 30.3, 21.6, 34.3, 27.2, 29.9, 24.9, 40.0, 33.2, 21.9, 37.6, 38.3, 27.5, 24.4, 24.7, 30.3, 34.8, 26.9, 25.7, 32.1, 41.2, 28.1, 19.2, 27.2, 23.8, 27.1, 25.1, 30.1, 29.8, 33.3, 50.5, 40.1, 36.6, 26.4, 30.0, 28.7, 22.7, 31.3, 16.0, 21.8, 27.1, 34.9, 28.1, 29.9, 29.3, 29.9, 23.2, 36.8, 29.5, 24.5, 41.0, 31.0, 33.8, 26.9, 26.5, 31.1, 29.8, 23.9, 29.1, 32.6, 18.6, 28.1, 28.7, 24.5, 23.6, 22.1, 30.0, 36.0, 21.1, 21.6, 38.6, 15.2, 17.2, 21.4, 22.2, 29.8, 28.3, 37.5, 25.1, 30.4, 39.1, 27.8, 30.8, 24.3, 27.3, 17.8, 33.3, 24.1, 31.1, 22.2, 17.2, 21.1, 22.6, 17.7, 30.7, 29.9, 32.2, 27.4, 27.4, 19.0, 23.0, 29.1, 32.6, 20.1, 35.3, 35.8, 27.8, 21.6, 20.2, 48.4, 30.3, 27.3, 27.7, 31.2, 22.3, 23.4, 24.5, 26.0, 21.4, 24.8, 36.6, 35.2, 25.7, 19.5, 40.5, 25.0, 26.0, 23.1, 23.1, 30.7, 43.9, 38.3, 24.5, 30.5, 27.8, 27.6, 35.3, 26.9, 19.5, 23.8, 33.8, 18.6, 27.9, 30.2, 36.1, 32.3, 27.9, 27.5, 25.2, 34.0, 27.7, 25.8, 27.2, 30.2, 30.1, 25.6, 18.1, 23.4, 28.3, 22.3, 29.6, 30.1, 21.7, 39.7], \"yaxis\": \"y\"}, {\"hoverlabel\": {\"namelength\": 0}, \"hovertemplate\": \"Diabetes=Prediabetic<br>Chol/HDL ratio=%{x}<br>BMI=%{y}\", \"legendgroup\": \"Diabetes=Prediabetic\", \"marker\": {\"color\": \"#EF553B\", \"symbol\": \"circle\"}, \"mode\": \"markers\", \"name\": \"Diabetes=Prediabetic\", \"showlegend\": true, \"type\": \"scatter\", \"x\": [3.6, 3.0, 1.5, 3.1, 3.7, 2.9, 4.4, 3.5, 3.6, 4.1, 5.6, 6.8, 9.4, 6.6, 4.8, 3.5, 6.2, 4.0, 3.7, 4.9, 4.1, 4.4, 4.4, 5.3, 6.3, 2.8, 2.5, 5.9, 4.8, 4.6, 6.3, 3.1, 3.2, 3.2, 5.4, 6.0, 3.1, 2.9, 3.0, 3.9, 3.1, 3.8, 5.8, 4.2, 3.0, 5.6, 4.5, 6.8, 6.6, 4.0, 3.9, 7.5, 4.4, 2.7, 4.0, 4.0, 6.5, 4.3, 2.9, 5.8, 3.7, 4.6, 6.4, 5.3, 2.9, 3.0, 3.2, 6.8, 7.5, 5.2], \"xaxis\": \"x\", \"y\": [24.9, 35.5, 26.8, 41.7, 43.4, 30.1, 24.1, 42.7, 31.0, 27.4, 33.9, 30.4, 28.9, 42.6, 48.6, 28.0, 33.7, 20.8, 27.5, 29.0, 25.8, 24.0, 55.8, 25.0, 23.4, 27.5, 23.0, 27.8, 31.7, 33.5, 27.6, 30.1, 24.8, 21.9, 23.7, 44.2, 34.0, 26.9, 20.2, 34.9, 19.4, 34.7, 24.7, 26.9, 27.4, 27.5, 24.2, 26.5, 19.5, 51.4, 28.0, 34.5, 41.3, 22.3, 30.5, 30.1, 25.4, 22.0, 22.5, 43.0, 43.2, 27.8, 30.4, 29.9, 30.3, 18.0, 27.9, 27.1, 26.3, 25.2], \"yaxis\": \"y\"}, {\"hoverlabel\": {\"namelength\": 0}, \"hovertemplate\": \"Diabetes=Diabetic<br>Chol/HDL ratio=%{x}<br>BMI=%{y}\", \"legendgroup\": \"Diabetes=Diabetic\", \"marker\": {\"color\": \"#00cc96\", \"symbol\": \"circle\"}, \"mode\": \"markers\", \"name\": \"Diabetes=Diabetic\", \"showlegend\": true, \"type\": \"scatter\", \"x\": [3.0, 5.1, 3.3, 6.8, 2.6, 8.3, 4.1, 6.3, 7.2, 4.7, 7.9, 3.3, 4.5, 5.7, 5.0, 5.6, 4.8, 4.1, 5.1, 7.0, 4.5, 4.0, 19.3, 7.1, 6.4, 10.6, 2.8, 7.1, 12.2, 3.8, 3.2, 4.6, 8.0, 7.6, 2.9, 7.0, 5.3, 7.3, 7.8, 3.3, 4.8, 7.3, 7.1, 7.5, 5.7, 5.7, 6.8, 7.8, 5.5, 3.1, 4.2, 2.8, 4.9, 6.9, 2.5, 6.7, 5.3, 2.9, 4.3, 2.0], \"xaxis\": \"x\", \"y\": [31.8, 24.7, 43.3, 25.0, 41.2, 39.7, 38.4, 40.8, 22.0, 42.5, 41.2, 32.9, 31.5, 30.1, 34.1, 34.3, 37.1, 34.6, 37.7, 44.6, 25.4, 34.7, 33.7, 31.9, 25.5, 25.8, 23.2, 32.8, 23.5, 28.3, 29.5, 32.4, 30.5, 25.7, 27.8, 34.1, 30.7, 25.5, 24.5, 27.4, 32.6, 37.8, 33.4, 31.4, 28.2, 26.0, 30.9, 31.9, 22.9, 24.7, 31.6, 29.2, 32.4, 31.9, 19.3, 27.8, 23.7, 29.6, 37.5, 24.0], \"yaxis\": \"y\"}],\n",
              "                        {\"legend\": {\"tracegroupgap\": 0}, \"margin\": {\"t\": 60}, \"template\": {\"data\": {\"bar\": [{\"error_x\": {\"color\": \"#f2f5fa\"}, \"error_y\": {\"color\": \"#f2f5fa\"}, \"marker\": {\"line\": {\"color\": \"rgb(17,17,17)\", \"width\": 0.5}}, \"type\": \"bar\"}], \"barpolar\": [{\"marker\": {\"line\": {\"color\": \"rgb(17,17,17)\", \"width\": 0.5}}, \"type\": \"barpolar\"}], \"carpet\": [{\"aaxis\": {\"endlinecolor\": \"#A2B1C6\", \"gridcolor\": \"#506784\", \"linecolor\": \"#506784\", \"minorgridcolor\": \"#506784\", \"startlinecolor\": \"#A2B1C6\"}, \"baxis\": {\"endlinecolor\": \"#A2B1C6\", \"gridcolor\": \"#506784\", \"linecolor\": \"#506784\", \"minorgridcolor\": \"#506784\", \"startlinecolor\": \"#A2B1C6\"}, \"type\": \"carpet\"}], \"choropleth\": [{\"colorbar\": {\"outlinewidth\": 0, \"ticks\": \"\"}, \"type\": \"choropleth\"}], \"contour\": [{\"colorbar\": {\"outlinewidth\": 0, \"ticks\": \"\"}, \"colorscale\": [[0.0, \"#0d0887\"], [0.1111111111111111, \"#46039f\"], [0.2222222222222222, \"#7201a8\"], [0.3333333333333333, \"#9c179e\"], [0.4444444444444444, \"#bd3786\"], [0.5555555555555556, \"#d8576b\"], [0.6666666666666666, \"#ed7953\"], [0.7777777777777778, \"#fb9f3a\"], [0.8888888888888888, \"#fdca26\"], [1.0, \"#f0f921\"]], \"type\": \"contour\"}], \"contourcarpet\": [{\"colorbar\": {\"outlinewidth\": 0, \"ticks\": \"\"}, \"type\": \"contourcarpet\"}], \"heatmap\": [{\"colorbar\": {\"outlinewidth\": 0, \"ticks\": \"\"}, \"colorscale\": [[0.0, \"#0d0887\"], [0.1111111111111111, \"#46039f\"], [0.2222222222222222, \"#7201a8\"], [0.3333333333333333, \"#9c179e\"], [0.4444444444444444, \"#bd3786\"], [0.5555555555555556, \"#d8576b\"], [0.6666666666666666, \"#ed7953\"], [0.7777777777777778, \"#fb9f3a\"], [0.8888888888888888, \"#fdca26\"], [1.0, \"#f0f921\"]], \"type\": \"heatmap\"}], \"heatmapgl\": [{\"colorbar\": {\"outlinewidth\": 0, \"ticks\": \"\"}, \"colorscale\": [[0.0, \"#0d0887\"], [0.1111111111111111, \"#46039f\"], [0.2222222222222222, \"#7201a8\"], [0.3333333333333333, \"#9c179e\"], [0.4444444444444444, \"#bd3786\"], [0.5555555555555556, \"#d8576b\"], [0.6666666666666666, \"#ed7953\"], [0.7777777777777778, \"#fb9f3a\"], [0.8888888888888888, \"#fdca26\"], [1.0, \"#f0f921\"]], \"type\": \"heatmapgl\"}], \"histogram\": [{\"marker\": {\"colorbar\": {\"outlinewidth\": 0, \"ticks\": \"\"}}, \"type\": \"histogram\"}], \"histogram2d\": [{\"colorbar\": {\"outlinewidth\": 0, \"ticks\": \"\"}, \"colorscale\": [[0.0, \"#0d0887\"], [0.1111111111111111, \"#46039f\"], [0.2222222222222222, \"#7201a8\"], [0.3333333333333333, \"#9c179e\"], [0.4444444444444444, \"#bd3786\"], [0.5555555555555556, \"#d8576b\"], [0.6666666666666666, \"#ed7953\"], [0.7777777777777778, \"#fb9f3a\"], [0.8888888888888888, \"#fdca26\"], [1.0, \"#f0f921\"]], \"type\": \"histogram2d\"}], \"histogram2dcontour\": [{\"colorbar\": {\"outlinewidth\": 0, \"ticks\": \"\"}, \"colorscale\": [[0.0, \"#0d0887\"], [0.1111111111111111, \"#46039f\"], [0.2222222222222222, \"#7201a8\"], [0.3333333333333333, \"#9c179e\"], [0.4444444444444444, \"#bd3786\"], [0.5555555555555556, \"#d8576b\"], [0.6666666666666666, \"#ed7953\"], [0.7777777777777778, \"#fb9f3a\"], [0.8888888888888888, \"#fdca26\"], [1.0, \"#f0f921\"]], \"type\": \"histogram2dcontour\"}], \"mesh3d\": [{\"colorbar\": {\"outlinewidth\": 0, \"ticks\": \"\"}, \"type\": \"mesh3d\"}], \"parcoords\": [{\"line\": {\"colorbar\": {\"outlinewidth\": 0, \"ticks\": \"\"}}, \"type\": \"parcoords\"}], \"pie\": [{\"automargin\": true, \"type\": \"pie\"}], \"scatter\": [{\"marker\": {\"line\": {\"color\": \"#283442\"}}, \"type\": \"scatter\"}], \"scatter3d\": [{\"line\": {\"colorbar\": {\"outlinewidth\": 0, \"ticks\": \"\"}}, \"marker\": {\"colorbar\": {\"outlinewidth\": 0, \"ticks\": \"\"}}, \"type\": \"scatter3d\"}], \"scattercarpet\": [{\"marker\": {\"colorbar\": {\"outlinewidth\": 0, \"ticks\": \"\"}}, \"type\": \"scattercarpet\"}], \"scattergeo\": [{\"marker\": {\"colorbar\": {\"outlinewidth\": 0, \"ticks\": \"\"}}, \"type\": \"scattergeo\"}], \"scattergl\": [{\"marker\": {\"line\": {\"color\": \"#283442\"}}, \"type\": \"scattergl\"}], \"scattermapbox\": [{\"marker\": {\"colorbar\": {\"outlinewidth\": 0, \"ticks\": \"\"}}, \"type\": \"scattermapbox\"}], \"scatterpolar\": [{\"marker\": {\"colorbar\": {\"outlinewidth\": 0, \"ticks\": \"\"}}, \"type\": \"scatterpolar\"}], \"scatterpolargl\": [{\"marker\": {\"colorbar\": {\"outlinewidth\": 0, \"ticks\": \"\"}}, \"type\": \"scatterpolargl\"}], \"scatterternary\": [{\"marker\": {\"colorbar\": {\"outlinewidth\": 0, \"ticks\": \"\"}}, \"type\": \"scatterternary\"}], \"surface\": [{\"colorbar\": {\"outlinewidth\": 0, \"ticks\": \"\"}, \"colorscale\": [[0.0, \"#0d0887\"], [0.1111111111111111, \"#46039f\"], [0.2222222222222222, \"#7201a8\"], [0.3333333333333333, \"#9c179e\"], [0.4444444444444444, \"#bd3786\"], [0.5555555555555556, \"#d8576b\"], [0.6666666666666666, \"#ed7953\"], [0.7777777777777778, \"#fb9f3a\"], [0.8888888888888888, \"#fdca26\"], [1.0, \"#f0f921\"]], \"type\": \"surface\"}], \"table\": [{\"cells\": {\"fill\": {\"color\": \"#506784\"}, \"line\": {\"color\": \"rgb(17,17,17)\"}}, \"header\": {\"fill\": {\"color\": \"#2a3f5f\"}, \"line\": {\"color\": \"rgb(17,17,17)\"}}, \"type\": \"table\"}]}, \"layout\": {\"annotationdefaults\": {\"arrowcolor\": \"#f2f5fa\", \"arrowhead\": 0, \"arrowwidth\": 1}, \"coloraxis\": {\"colorbar\": {\"outlinewidth\": 0, \"ticks\": \"\"}}, \"colorscale\": {\"diverging\": [[0, \"#8e0152\"], [0.1, \"#c51b7d\"], [0.2, \"#de77ae\"], [0.3, \"#f1b6da\"], [0.4, \"#fde0ef\"], [0.5, \"#f7f7f7\"], [0.6, \"#e6f5d0\"], [0.7, \"#b8e186\"], [0.8, \"#7fbc41\"], [0.9, \"#4d9221\"], [1, \"#276419\"]], \"sequential\": [[0.0, \"#0d0887\"], [0.1111111111111111, \"#46039f\"], [0.2222222222222222, \"#7201a8\"], [0.3333333333333333, \"#9c179e\"], [0.4444444444444444, \"#bd3786\"], [0.5555555555555556, \"#d8576b\"], [0.6666666666666666, \"#ed7953\"], [0.7777777777777778, \"#fb9f3a\"], [0.8888888888888888, \"#fdca26\"], [1.0, \"#f0f921\"]], \"sequentialminus\": [[0.0, \"#0d0887\"], [0.1111111111111111, \"#46039f\"], [0.2222222222222222, \"#7201a8\"], [0.3333333333333333, \"#9c179e\"], [0.4444444444444444, \"#bd3786\"], [0.5555555555555556, \"#d8576b\"], [0.6666666666666666, \"#ed7953\"], [0.7777777777777778, \"#fb9f3a\"], [0.8888888888888888, \"#fdca26\"], [1.0, \"#f0f921\"]]}, \"colorway\": [\"#636efa\", \"#EF553B\", \"#00cc96\", \"#ab63fa\", \"#FFA15A\", \"#19d3f3\", \"#FF6692\", \"#B6E880\", \"#FF97FF\", \"#FECB52\"], \"font\": {\"color\": \"#f2f5fa\"}, \"geo\": {\"bgcolor\": \"rgb(17,17,17)\", \"lakecolor\": \"rgb(17,17,17)\", \"landcolor\": \"rgb(17,17,17)\", \"showlakes\": true, \"showland\": true, \"subunitcolor\": \"#506784\"}, \"hoverlabel\": {\"align\": \"left\"}, \"hovermode\": \"closest\", \"mapbox\": {\"style\": \"dark\"}, \"paper_bgcolor\": \"rgb(17,17,17)\", \"plot_bgcolor\": \"rgb(17,17,17)\", \"polar\": {\"angularaxis\": {\"gridcolor\": \"#506784\", \"linecolor\": \"#506784\", \"ticks\": \"\"}, \"bgcolor\": \"rgb(17,17,17)\", \"radialaxis\": {\"gridcolor\": \"#506784\", \"linecolor\": \"#506784\", \"ticks\": \"\"}}, \"scene\": {\"xaxis\": {\"backgroundcolor\": \"rgb(17,17,17)\", \"gridcolor\": \"#506784\", \"gridwidth\": 2, \"linecolor\": \"#506784\", \"showbackground\": true, \"ticks\": \"\", \"zerolinecolor\": \"#C8D4E3\"}, \"yaxis\": {\"backgroundcolor\": \"rgb(17,17,17)\", \"gridcolor\": \"#506784\", \"gridwidth\": 2, \"linecolor\": \"#506784\", \"showbackground\": true, \"ticks\": \"\", \"zerolinecolor\": \"#C8D4E3\"}, \"zaxis\": {\"backgroundcolor\": \"rgb(17,17,17)\", \"gridcolor\": \"#506784\", \"gridwidth\": 2, \"linecolor\": \"#506784\", \"showbackground\": true, \"ticks\": \"\", \"zerolinecolor\": \"#C8D4E3\"}}, \"shapedefaults\": {\"line\": {\"color\": \"#f2f5fa\"}}, \"sliderdefaults\": {\"bgcolor\": \"#C8D4E3\", \"bordercolor\": \"rgb(17,17,17)\", \"borderwidth\": 1, \"tickwidth\": 0}, \"ternary\": {\"aaxis\": {\"gridcolor\": \"#506784\", \"linecolor\": \"#506784\", \"ticks\": \"\"}, \"baxis\": {\"gridcolor\": \"#506784\", \"linecolor\": \"#506784\", \"ticks\": \"\"}, \"bgcolor\": \"rgb(17,17,17)\", \"caxis\": {\"gridcolor\": \"#506784\", \"linecolor\": \"#506784\", \"ticks\": \"\"}}, \"title\": {\"x\": 0.05}, \"updatemenudefaults\": {\"bgcolor\": \"#506784\", \"borderwidth\": 0}, \"xaxis\": {\"automargin\": true, \"gridcolor\": \"#283442\", \"linecolor\": \"#506784\", \"ticks\": \"\", \"title\": {\"standoff\": 15}, \"zerolinecolor\": \"#283442\", \"zerolinewidth\": 2}, \"yaxis\": {\"automargin\": true, \"gridcolor\": \"#283442\", \"linecolor\": \"#506784\", \"ticks\": \"\", \"title\": {\"standoff\": 15}, \"zerolinecolor\": \"#283442\", \"zerolinewidth\": 2}}}, \"title\": {\"text\": \"Chol/HDL ratio vs BMI\"}, \"xaxis\": {\"anchor\": \"y\", \"domain\": [0.0, 1.0], \"title\": {\"text\": \"Chol/HDL ratio\"}}, \"yaxis\": {\"anchor\": \"x\", \"domain\": [0.0, 1.0], \"title\": {\"text\": \"BMI\"}}},\n",
              "                        {\"responsive\": true}\n",
              "                    ).then(function(){\n",
              "                            \n",
              "var gd = document.getElementById('8ef91613-9217-470f-9bb8-27fb5be488dc');\n",
              "var x = new MutationObserver(function (mutations, observer) {{\n",
              "        var display = window.getComputedStyle(gd).display;\n",
              "        if (!display || display === 'none') {{\n",
              "            console.log([gd, 'removed!']);\n",
              "            Plotly.purge(gd);\n",
              "            observer.disconnect();\n",
              "        }}\n",
              "}});\n",
              "\n",
              "// Listen for the removal of the full notebook cells\n",
              "var notebookContainer = gd.closest('#notebook-container');\n",
              "if (notebookContainer) {{\n",
              "    x.observe(notebookContainer, {childList: true});\n",
              "}}\n",
              "\n",
              "// Listen for the clearing of the current output cell\n",
              "var outputEl = gd.closest('.output');\n",
              "if (outputEl) {{\n",
              "    x.observe(outputEl, {childList: true});\n",
              "}}\n",
              "\n",
              "                        })\n",
              "                };\n",
              "                \n",
              "            </script>\n",
              "        </div>\n",
              "</body>\n",
              "</html>"
            ]
          },
          "metadata": {}
        }
      ]
    },
    {
      "cell_type": "markdown",
      "source": [
        "Based on the observation, there seems to be little to no correlation between Chol/HDL ratio and BMI. The outliers could be the cause of the 0.228407 correlation which makes it seem as if there is a correlation."
      ],
      "metadata": {
        "id": "gAoLb0WugS2p"
      }
    },
    {
      "cell_type": "code",
      "source": [
        "fig = px.scatter(df, x=\"Chol/HDL ratio\", y=\"Waist/hip ratio\", color=\"Diabetes\")\n",
        "fig.update_layout(\n",
        "    template = template, \n",
        "    title = \"Chol/HDL ratio vs Waist/hip ratio\",\n",
        ")\n",
        "fig.show(renderer=\"colab\")"
      ],
      "metadata": {
        "colab": {
          "base_uri": "https://localhost:8080/",
          "height": 542
        },
        "id": "q20GP8hPgx1_",
        "outputId": "7b3e09b1-dfba-4c39-d565-aa4398a6ca7e"
      },
      "execution_count": null,
      "outputs": [
        {
          "output_type": "display_data",
          "data": {
            "text/html": [
              "<html>\n",
              "<head><meta charset=\"utf-8\" /></head>\n",
              "<body>\n",
              "    <div>\n",
              "            <script src=\"https://cdnjs.cloudflare.com/ajax/libs/mathjax/2.7.5/MathJax.js?config=TeX-AMS-MML_SVG\"></script><script type=\"text/javascript\">if (window.MathJax) {MathJax.Hub.Config({SVG: {font: \"STIX-Web\"}});}</script>\n",
              "                <script type=\"text/javascript\">window.PlotlyConfig = {MathJaxConfig: 'local'};</script>\n",
              "        <script src=\"https://cdn.plot.ly/plotly-latest.min.js\"></script>    \n",
              "            <div id=\"303c1858-bb50-4ae4-a729-5a6b2cd34878\" class=\"plotly-graph-div\" style=\"height:525px; width:100%;\"></div>\n",
              "            <script type=\"text/javascript\">\n",
              "                \n",
              "                    window.PLOTLYENV=window.PLOTLYENV || {};\n",
              "                    \n",
              "                if (document.getElementById(\"303c1858-bb50-4ae4-a729-5a6b2cd34878\")) {\n",
              "                    Plotly.newPlot(\n",
              "                        '303c1858-bb50-4ae4-a729-5a6b2cd34878',\n",
              "                        [{\"hoverlabel\": {\"namelength\": 0}, \"hovertemplate\": \"Diabetes=Non-Diabetic<br>Chol/HDL ratio=%{x}<br>Waist/hip ratio=%{y}\", \"legendgroup\": \"Diabetes=Non-Diabetic\", \"marker\": {\"color\": \"#636efa\", \"symbol\": \"circle\"}, \"mode\": \"markers\", \"name\": \"Diabetes=Non-Diabetic\", \"showlegend\": true, \"type\": \"scatter\", \"x\": [3.9, 3.6, 4.0, 3.2, 2.4, 2.7, 3.0, 2.6, 3.9, 2.7, 2.9, 2.9, 2.7, 3.9, 3.6, 4.8, 3.6, 2.6, 2.7, 4.2, 6.2, 3.5, 5.3, 5.0, 3.2, 4.1, 5.1, 3.2, 3.4, 2.2, 3.0, 3.8, 6.2, 3.3, 2.8, 6.6, 4.3, 3.3, 2.9, 2.4, 6.0, 2.8, 3.2, 5.1, 3.7, 2.4, 4.0, 3.3, 3.6, 4.0, 3.4, 3.7, 6.9, 2.5, 3.9, 3.9, 5.1, 4.1, 2.7, 4.8, 4.7, 3.6, 3.2, 2.9, 4.2, 4.9, 2.5, 3.1, 6.9, 2.2, 3.4, 5.2, 4.5, 5.4, 3.1, 3.8, 2.5, 6.1, 3.4, 5.1, 3.6, 5.4, 5.3, 2.8, 4.8, 2.9, 3.9, 5.4, 4.3, 2.8, 5.4, 3.6, 6.4, 4.3, 5.1, 2.4, 3.0, 7.5, 5.4, 5.2, 6.4, 2.6, 4.6, 4.1, 4.6, 3.6, 5.8, 7.7, 5.9, 5.0, 5.4, 4.3, 5.3, 3.5, 3.7, 5.6, 4.1, 3.8, 3.9, 5.3, 4.7, 5.1, 3.9, 4.5, 3.2, 4.0, 5.1, 2.6, 5.8, 5.7, 3.3, 4.3, 4.7, 3.4, 1.9, 2.7, 4.1, 3.8, 3.8, 4.1, 7.9, 6.8, 4.3, 5.5, 3.6, 4.1, 5.8, 3.0, 4.1, 3.5, 4.9, 5.8, 4.3, 6.1, 5.7, 6.1, 2.6, 4.7, 6.0, 3.6, 2.2, 3.6, 3.1, 3.1, 3.0, 4.9, 4.6, 3.8, 5.3, 6.1, 2.3, 3.6, 5.3, 2.6, 3.3, 6.7, 3.1, 3.7, 5.1, 2.8, 5.3, 2.6, 8.9, 4.3, 4.7, 2.5, 2.8, 4.2, 3.0, 2.8, 3.3, 5.6, 6.3, 3.6, 4.3, 3.0, 4.7, 4.2, 3.8, 2.3, 3.3, 6.6, 6.5, 3.1, 3.0, 6.2, 8.7, 7.0, 6.2, 4.7, 3.8, 3.2, 4.6, 4.5, 3.5, 4.0, 3.9, 4.7, 4.9, 3.0, 5.8, 5.3, 3.4, 5.7, 3.1, 2.4, 5.4, 6.2, 4.6, 3.7, 8.9, 3.1, 4.7, 5.2, 2.9, 4.4, 6.9, 6.5, 4.5, 4.5, 4.3, 4.4, 3.7, 2.1, 3.4, 4.9, 5.3, 5.0, 5.5, 5.3, 6.4, 3.4, 2.2, 2.6, 5.1, 6.4, 3.3, 4.9, 2.6, 2.4], \"xaxis\": \"x\", \"y\": [0.84, 0.83, 0.89, 0.79, 0.82, 0.93, 0.84, 0.81, 0.91, 0.72, 0.79, 0.91, 0.87, 0.77, 0.8, 0.92, 0.92, 0.8, 0.88, 0.88, 1.02, 0.91, 0.83, 0.96, 0.8, 0.94, 0.87, 0.94, 0.9, 0.86, 0.8, 0.93, 0.98, 0.85, 0.76, 0.85, 0.83, 0.79, 0.8, 0.87, 0.95, 0.91, 0.83, 0.92, 0.91, 0.88, 0.84, 0.79, 0.97, 0.7, 0.83, 0.87, 0.96, 0.94, 0.83, 0.85, 0.82, 0.79, 0.79, 0.94, 0.85, 0.87, 0.86, 0.73, 0.89, 0.68, 0.87, 0.98, 0.89, 0.83, 0.79, 0.78, 0.9, 0.91, 0.9, 0.83, 0.92, 0.72, 0.79, 0.85, 0.86, 0.98, 0.74, 0.79, 0.86, 0.89, 0.86, 0.82, 0.84, 0.91, 0.95, 0.87, 0.9, 0.86, 0.92, 0.82, 0.85, 0.9, 0.88, 0.87, 0.84, 0.76, 0.81, 0.86, 0.94, 0.85, 0.88, 0.91, 0.82, 0.89, 0.77, 0.95, 0.8, 0.79, 0.85, 0.83, 0.85, 0.79, 0.79, 0.86, 0.97, 0.95, 0.86, 0.91, 1.05, 0.86, 0.83, 0.8, 0.92, 0.93, 0.91, 0.95, 0.87, 0.76, 0.78, 0.78, 0.8, 0.85, 0.74, 0.93, 0.95, 0.95, 0.8, 0.9, 0.86, 0.9, 0.91, 0.94, 0.93, 0.78, 0.82, 0.78, 0.89, 0.89, 0.84, 0.86, 0.88, 0.89, 0.89, 0.85, 0.87, 0.76, 0.89, 0.98, 0.83, 0.9, 0.85, 0.82, 0.91, 0.84, 0.78, 0.9, 0.98, 0.82, 0.9, 0.86, 0.78, 0.83, 0.89, 0.92, 0.74, 0.76, 0.93, 0.9, 0.93, 0.85, 0.91, 0.83, 0.9, 0.89, 0.83, 0.79, 0.83, 0.93, 0.88, 0.81, 0.85, 0.86, 0.91, 0.97, 0.83, 0.9, 0.92, 0.84, 0.86, 0.86, 0.88, 0.93, 0.88, 0.77, 0.84, 0.9, 0.78, 0.87, 0.94, 0.88, 0.8, 0.87, 1.14, 0.87, 1.06, 0.9, 0.88, 0.87, 0.93, 1.04, 0.83, 0.83, 1.03, 0.94, 1.07, 0.88, 0.91, 1.08, 0.94, 0.98, 1.09, 0.87, 0.9, 0.88, 0.94, 0.87, 1.02, 0.8, 0.95, 0.83, 1.0, 0.98, 0.95, 0.89, 1.05, 0.9, 0.97, 0.97, 0.8, 0.89, 0.98, 0.89, 0.76, 1.0], \"yaxis\": \"y\"}, {\"hoverlabel\": {\"namelength\": 0}, \"hovertemplate\": \"Diabetes=Prediabetic<br>Chol/HDL ratio=%{x}<br>Waist/hip ratio=%{y}\", \"legendgroup\": \"Diabetes=Prediabetic\", \"marker\": {\"color\": \"#EF553B\", \"symbol\": \"circle\"}, \"mode\": \"markers\", \"name\": \"Diabetes=Prediabetic\", \"showlegend\": true, \"type\": \"scatter\", \"x\": [3.6, 3.0, 1.5, 3.1, 3.7, 2.9, 4.4, 3.5, 3.6, 4.1, 5.6, 6.8, 9.4, 6.6, 4.8, 3.5, 6.2, 4.0, 3.7, 4.9, 4.1, 4.4, 4.4, 5.3, 6.3, 2.8, 2.5, 5.9, 4.8, 4.6, 6.3, 3.1, 3.2, 3.2, 5.4, 6.0, 3.1, 2.9, 3.0, 3.9, 3.1, 3.8, 5.8, 4.2, 3.0, 5.6, 4.5, 6.8, 6.6, 4.0, 3.9, 7.5, 4.4, 2.7, 4.0, 4.0, 6.5, 4.3, 2.9, 5.8, 3.7, 4.6, 6.4, 5.3, 2.9, 3.0, 3.2, 6.8, 7.5, 5.2], \"xaxis\": \"x\", \"y\": [0.79, 0.74, 0.9, 0.84, 0.81, 0.95, 0.91, 0.94, 0.98, 0.9, 0.84, 0.89, 0.88, 0.84, 0.78, 0.82, 0.89, 0.97, 0.73, 0.93, 0.83, 0.93, 0.85, 0.84, 0.92, 0.93, 0.84, 0.94, 0.83, 0.82, 0.9, 0.83, 0.9, 0.95, 0.87, 0.88, 0.86, 0.81, 0.81, 0.9, 0.89, 1.05, 1.03, 0.88, 0.93, 0.95, 0.85, 0.91, 0.9, 0.89, 0.81, 0.94, 0.75, 0.82, 0.98, 0.84, 0.92, 0.84, 0.78, 0.94, 0.94, 0.98, 0.93, 0.86, 0.98, 0.88, 0.88, 0.84, 0.86, 0.88], \"yaxis\": \"y\"}, {\"hoverlabel\": {\"namelength\": 0}, \"hovertemplate\": \"Diabetes=Diabetic<br>Chol/HDL ratio=%{x}<br>Waist/hip ratio=%{y}\", \"legendgroup\": \"Diabetes=Diabetic\", \"marker\": {\"color\": \"#00cc96\", \"symbol\": \"circle\"}, \"mode\": \"markers\", \"name\": \"Diabetes=Diabetic\", \"showlegend\": true, \"type\": \"scatter\", \"x\": [3.0, 5.1, 3.3, 6.8, 2.6, 8.3, 4.1, 6.3, 7.2, 4.7, 7.9, 3.3, 4.5, 5.7, 5.0, 5.6, 4.8, 4.1, 5.1, 7.0, 4.5, 4.0, 19.3, 7.1, 6.4, 10.6, 2.8, 7.1, 12.2, 3.8, 3.2, 4.6, 8.0, 7.6, 2.9, 7.0, 5.3, 7.3, 7.8, 3.3, 4.8, 7.3, 7.1, 7.5, 5.7, 5.7, 6.8, 7.8, 5.5, 3.1, 4.2, 2.8, 4.9, 6.9, 2.5, 6.7, 5.3, 2.9, 4.3, 2.0], \"xaxis\": \"x\", \"y\": [0.83, 0.83, 0.95, 0.95, 0.9, 1.04, 0.82, 0.84, 0.92, 0.87, 0.85, 0.82, 0.94, 0.93, 0.91, 0.89, 1.09, 0.91, 0.8, 1.14, 0.9, 0.79, 0.9, 0.96, 0.9, 1.0, 1.0, 0.82, 0.97, 0.92, 0.81, 0.87, 0.84, 0.95, 0.86, 0.96, 0.98, 0.95, 0.95, 0.93, 0.9, 0.92, 0.98, 0.94, 0.8, 0.88, 0.98, 0.94, 0.75, 0.86, 0.94, 0.81, 0.88, 0.98, 0.94, 1.0, 0.95, 1.07, 0.85, 0.92], \"yaxis\": \"y\"}],\n",
              "                        {\"legend\": {\"tracegroupgap\": 0}, \"margin\": {\"t\": 60}, \"template\": {\"data\": {\"bar\": [{\"error_x\": {\"color\": \"#f2f5fa\"}, \"error_y\": {\"color\": \"#f2f5fa\"}, \"marker\": {\"line\": {\"color\": \"rgb(17,17,17)\", \"width\": 0.5}}, \"type\": \"bar\"}], \"barpolar\": [{\"marker\": {\"line\": {\"color\": \"rgb(17,17,17)\", \"width\": 0.5}}, \"type\": \"barpolar\"}], \"carpet\": [{\"aaxis\": {\"endlinecolor\": \"#A2B1C6\", \"gridcolor\": \"#506784\", \"linecolor\": \"#506784\", \"minorgridcolor\": \"#506784\", \"startlinecolor\": \"#A2B1C6\"}, \"baxis\": {\"endlinecolor\": \"#A2B1C6\", \"gridcolor\": \"#506784\", \"linecolor\": \"#506784\", \"minorgridcolor\": \"#506784\", \"startlinecolor\": \"#A2B1C6\"}, \"type\": \"carpet\"}], \"choropleth\": [{\"colorbar\": {\"outlinewidth\": 0, \"ticks\": \"\"}, \"type\": \"choropleth\"}], \"contour\": [{\"colorbar\": {\"outlinewidth\": 0, \"ticks\": \"\"}, \"colorscale\": [[0.0, \"#0d0887\"], [0.1111111111111111, \"#46039f\"], [0.2222222222222222, \"#7201a8\"], [0.3333333333333333, \"#9c179e\"], [0.4444444444444444, \"#bd3786\"], [0.5555555555555556, \"#d8576b\"], [0.6666666666666666, \"#ed7953\"], [0.7777777777777778, \"#fb9f3a\"], [0.8888888888888888, \"#fdca26\"], [1.0, \"#f0f921\"]], \"type\": \"contour\"}], \"contourcarpet\": [{\"colorbar\": {\"outlinewidth\": 0, \"ticks\": \"\"}, \"type\": \"contourcarpet\"}], \"heatmap\": [{\"colorbar\": {\"outlinewidth\": 0, \"ticks\": \"\"}, \"colorscale\": [[0.0, \"#0d0887\"], [0.1111111111111111, \"#46039f\"], [0.2222222222222222, \"#7201a8\"], [0.3333333333333333, \"#9c179e\"], [0.4444444444444444, \"#bd3786\"], [0.5555555555555556, \"#d8576b\"], [0.6666666666666666, \"#ed7953\"], [0.7777777777777778, \"#fb9f3a\"], [0.8888888888888888, \"#fdca26\"], [1.0, \"#f0f921\"]], \"type\": \"heatmap\"}], \"heatmapgl\": [{\"colorbar\": {\"outlinewidth\": 0, \"ticks\": \"\"}, \"colorscale\": [[0.0, \"#0d0887\"], [0.1111111111111111, \"#46039f\"], [0.2222222222222222, \"#7201a8\"], [0.3333333333333333, \"#9c179e\"], [0.4444444444444444, \"#bd3786\"], [0.5555555555555556, \"#d8576b\"], [0.6666666666666666, \"#ed7953\"], [0.7777777777777778, \"#fb9f3a\"], [0.8888888888888888, \"#fdca26\"], [1.0, \"#f0f921\"]], \"type\": \"heatmapgl\"}], \"histogram\": [{\"marker\": {\"colorbar\": {\"outlinewidth\": 0, \"ticks\": \"\"}}, \"type\": \"histogram\"}], \"histogram2d\": [{\"colorbar\": {\"outlinewidth\": 0, \"ticks\": \"\"}, \"colorscale\": [[0.0, \"#0d0887\"], [0.1111111111111111, \"#46039f\"], [0.2222222222222222, \"#7201a8\"], [0.3333333333333333, \"#9c179e\"], [0.4444444444444444, \"#bd3786\"], [0.5555555555555556, \"#d8576b\"], [0.6666666666666666, \"#ed7953\"], [0.7777777777777778, \"#fb9f3a\"], [0.8888888888888888, \"#fdca26\"], [1.0, \"#f0f921\"]], \"type\": \"histogram2d\"}], \"histogram2dcontour\": [{\"colorbar\": {\"outlinewidth\": 0, \"ticks\": \"\"}, \"colorscale\": [[0.0, \"#0d0887\"], [0.1111111111111111, \"#46039f\"], [0.2222222222222222, \"#7201a8\"], [0.3333333333333333, \"#9c179e\"], [0.4444444444444444, \"#bd3786\"], [0.5555555555555556, \"#d8576b\"], [0.6666666666666666, \"#ed7953\"], [0.7777777777777778, \"#fb9f3a\"], [0.8888888888888888, \"#fdca26\"], [1.0, \"#f0f921\"]], \"type\": \"histogram2dcontour\"}], \"mesh3d\": [{\"colorbar\": {\"outlinewidth\": 0, \"ticks\": \"\"}, \"type\": \"mesh3d\"}], \"parcoords\": [{\"line\": {\"colorbar\": {\"outlinewidth\": 0, \"ticks\": \"\"}}, \"type\": \"parcoords\"}], \"pie\": [{\"automargin\": true, \"type\": \"pie\"}], \"scatter\": [{\"marker\": {\"line\": {\"color\": \"#283442\"}}, \"type\": \"scatter\"}], \"scatter3d\": [{\"line\": {\"colorbar\": {\"outlinewidth\": 0, \"ticks\": \"\"}}, \"marker\": {\"colorbar\": {\"outlinewidth\": 0, \"ticks\": \"\"}}, \"type\": \"scatter3d\"}], \"scattercarpet\": [{\"marker\": {\"colorbar\": {\"outlinewidth\": 0, \"ticks\": \"\"}}, \"type\": \"scattercarpet\"}], \"scattergeo\": [{\"marker\": {\"colorbar\": {\"outlinewidth\": 0, \"ticks\": \"\"}}, \"type\": \"scattergeo\"}], \"scattergl\": [{\"marker\": {\"line\": {\"color\": \"#283442\"}}, \"type\": \"scattergl\"}], \"scattermapbox\": [{\"marker\": {\"colorbar\": {\"outlinewidth\": 0, \"ticks\": \"\"}}, \"type\": \"scattermapbox\"}], \"scatterpolar\": [{\"marker\": {\"colorbar\": {\"outlinewidth\": 0, \"ticks\": \"\"}}, \"type\": \"scatterpolar\"}], \"scatterpolargl\": [{\"marker\": {\"colorbar\": {\"outlinewidth\": 0, \"ticks\": \"\"}}, \"type\": \"scatterpolargl\"}], \"scatterternary\": [{\"marker\": {\"colorbar\": {\"outlinewidth\": 0, \"ticks\": \"\"}}, \"type\": \"scatterternary\"}], \"surface\": [{\"colorbar\": {\"outlinewidth\": 0, \"ticks\": \"\"}, \"colorscale\": [[0.0, \"#0d0887\"], [0.1111111111111111, \"#46039f\"], [0.2222222222222222, \"#7201a8\"], [0.3333333333333333, \"#9c179e\"], [0.4444444444444444, \"#bd3786\"], [0.5555555555555556, \"#d8576b\"], [0.6666666666666666, \"#ed7953\"], [0.7777777777777778, \"#fb9f3a\"], [0.8888888888888888, \"#fdca26\"], [1.0, \"#f0f921\"]], \"type\": \"surface\"}], \"table\": [{\"cells\": {\"fill\": {\"color\": \"#506784\"}, \"line\": {\"color\": \"rgb(17,17,17)\"}}, \"header\": {\"fill\": {\"color\": \"#2a3f5f\"}, \"line\": {\"color\": \"rgb(17,17,17)\"}}, \"type\": \"table\"}]}, \"layout\": {\"annotationdefaults\": {\"arrowcolor\": \"#f2f5fa\", \"arrowhead\": 0, \"arrowwidth\": 1}, \"coloraxis\": {\"colorbar\": {\"outlinewidth\": 0, \"ticks\": \"\"}}, \"colorscale\": {\"diverging\": [[0, \"#8e0152\"], [0.1, \"#c51b7d\"], [0.2, \"#de77ae\"], [0.3, \"#f1b6da\"], [0.4, \"#fde0ef\"], [0.5, \"#f7f7f7\"], [0.6, \"#e6f5d0\"], [0.7, \"#b8e186\"], [0.8, \"#7fbc41\"], [0.9, \"#4d9221\"], [1, \"#276419\"]], \"sequential\": [[0.0, \"#0d0887\"], [0.1111111111111111, \"#46039f\"], [0.2222222222222222, \"#7201a8\"], [0.3333333333333333, \"#9c179e\"], [0.4444444444444444, \"#bd3786\"], [0.5555555555555556, \"#d8576b\"], [0.6666666666666666, \"#ed7953\"], [0.7777777777777778, \"#fb9f3a\"], [0.8888888888888888, \"#fdca26\"], [1.0, \"#f0f921\"]], \"sequentialminus\": [[0.0, \"#0d0887\"], [0.1111111111111111, \"#46039f\"], [0.2222222222222222, \"#7201a8\"], [0.3333333333333333, \"#9c179e\"], [0.4444444444444444, \"#bd3786\"], [0.5555555555555556, \"#d8576b\"], [0.6666666666666666, \"#ed7953\"], [0.7777777777777778, \"#fb9f3a\"], [0.8888888888888888, \"#fdca26\"], [1.0, \"#f0f921\"]]}, \"colorway\": [\"#636efa\", \"#EF553B\", \"#00cc96\", \"#ab63fa\", \"#FFA15A\", \"#19d3f3\", \"#FF6692\", \"#B6E880\", \"#FF97FF\", \"#FECB52\"], \"font\": {\"color\": \"#f2f5fa\"}, \"geo\": {\"bgcolor\": \"rgb(17,17,17)\", \"lakecolor\": \"rgb(17,17,17)\", \"landcolor\": \"rgb(17,17,17)\", \"showlakes\": true, \"showland\": true, \"subunitcolor\": \"#506784\"}, \"hoverlabel\": {\"align\": \"left\"}, \"hovermode\": \"closest\", \"mapbox\": {\"style\": \"dark\"}, \"paper_bgcolor\": \"rgb(17,17,17)\", \"plot_bgcolor\": \"rgb(17,17,17)\", \"polar\": {\"angularaxis\": {\"gridcolor\": \"#506784\", \"linecolor\": \"#506784\", \"ticks\": \"\"}, \"bgcolor\": \"rgb(17,17,17)\", \"radialaxis\": {\"gridcolor\": \"#506784\", \"linecolor\": \"#506784\", \"ticks\": \"\"}}, \"scene\": {\"xaxis\": {\"backgroundcolor\": \"rgb(17,17,17)\", \"gridcolor\": \"#506784\", \"gridwidth\": 2, \"linecolor\": \"#506784\", \"showbackground\": true, \"ticks\": \"\", \"zerolinecolor\": \"#C8D4E3\"}, \"yaxis\": {\"backgroundcolor\": \"rgb(17,17,17)\", \"gridcolor\": \"#506784\", \"gridwidth\": 2, \"linecolor\": \"#506784\", \"showbackground\": true, \"ticks\": \"\", \"zerolinecolor\": \"#C8D4E3\"}, \"zaxis\": {\"backgroundcolor\": \"rgb(17,17,17)\", \"gridcolor\": \"#506784\", \"gridwidth\": 2, \"linecolor\": \"#506784\", \"showbackground\": true, \"ticks\": \"\", \"zerolinecolor\": \"#C8D4E3\"}}, \"shapedefaults\": {\"line\": {\"color\": \"#f2f5fa\"}}, \"sliderdefaults\": {\"bgcolor\": \"#C8D4E3\", \"bordercolor\": \"rgb(17,17,17)\", \"borderwidth\": 1, \"tickwidth\": 0}, \"ternary\": {\"aaxis\": {\"gridcolor\": \"#506784\", \"linecolor\": \"#506784\", \"ticks\": \"\"}, \"baxis\": {\"gridcolor\": \"#506784\", \"linecolor\": \"#506784\", \"ticks\": \"\"}, \"bgcolor\": \"rgb(17,17,17)\", \"caxis\": {\"gridcolor\": \"#506784\", \"linecolor\": \"#506784\", \"ticks\": \"\"}}, \"title\": {\"x\": 0.05}, \"updatemenudefaults\": {\"bgcolor\": \"#506784\", \"borderwidth\": 0}, \"xaxis\": {\"automargin\": true, \"gridcolor\": \"#283442\", \"linecolor\": \"#506784\", \"ticks\": \"\", \"title\": {\"standoff\": 15}, \"zerolinecolor\": \"#283442\", \"zerolinewidth\": 2}, \"yaxis\": {\"automargin\": true, \"gridcolor\": \"#283442\", \"linecolor\": \"#506784\", \"ticks\": \"\", \"title\": {\"standoff\": 15}, \"zerolinecolor\": \"#283442\", \"zerolinewidth\": 2}}}, \"title\": {\"text\": \"Chol/HDL ratio vs Waist/hip ratio\"}, \"xaxis\": {\"anchor\": \"y\", \"domain\": [0.0, 1.0], \"title\": {\"text\": \"Chol/HDL ratio\"}}, \"yaxis\": {\"anchor\": \"x\", \"domain\": [0.0, 1.0], \"title\": {\"text\": \"Waist/hip ratio\"}}},\n",
              "                        {\"responsive\": true}\n",
              "                    ).then(function(){\n",
              "                            \n",
              "var gd = document.getElementById('303c1858-bb50-4ae4-a729-5a6b2cd34878');\n",
              "var x = new MutationObserver(function (mutations, observer) {{\n",
              "        var display = window.getComputedStyle(gd).display;\n",
              "        if (!display || display === 'none') {{\n",
              "            console.log([gd, 'removed!']);\n",
              "            Plotly.purge(gd);\n",
              "            observer.disconnect();\n",
              "        }}\n",
              "}});\n",
              "\n",
              "// Listen for the removal of the full notebook cells\n",
              "var notebookContainer = gd.closest('#notebook-container');\n",
              "if (notebookContainer) {{\n",
              "    x.observe(notebookContainer, {childList: true});\n",
              "}}\n",
              "\n",
              "// Listen for the clearing of the current output cell\n",
              "var outputEl = gd.closest('.output');\n",
              "if (outputEl) {{\n",
              "    x.observe(outputEl, {childList: true});\n",
              "}}\n",
              "\n",
              "                        })\n",
              "                };\n",
              "                \n",
              "            </script>\n",
              "        </div>\n",
              "</body>\n",
              "</html>"
            ]
          },
          "metadata": {}
        }
      ]
    },
    {
      "cell_type": "markdown",
      "source": [
        "The same occured above where outliers affected the correlation."
      ],
      "metadata": {
        "id": "RNmX0F0AhPsG"
      }
    },
    {
      "cell_type": "code",
      "source": [
        "fig = px.scatter(df, x=\"Age\", y=\"BloodPressure\", color=\"Diabetes\")\n",
        "fig.update_layout(\n",
        "    template = template, \n",
        "    title = \"Age vs Blood Pressure\",\n",
        "\n",
        ")\n",
        "fig.show(renderer=\"colab\")"
      ],
      "metadata": {
        "colab": {
          "base_uri": "https://localhost:8080/",
          "height": 542
        },
        "id": "Z64WN0ZTyEMk",
        "outputId": "e8fd09bc-faff-46ee-a6bb-00258cf8d7a6"
      },
      "execution_count": null,
      "outputs": [
        {
          "output_type": "display_data",
          "data": {
            "text/html": [
              "<html>\n",
              "<head><meta charset=\"utf-8\" /></head>\n",
              "<body>\n",
              "    <div>\n",
              "            <script src=\"https://cdnjs.cloudflare.com/ajax/libs/mathjax/2.7.5/MathJax.js?config=TeX-AMS-MML_SVG\"></script><script type=\"text/javascript\">if (window.MathJax) {MathJax.Hub.Config({SVG: {font: \"STIX-Web\"}});}</script>\n",
              "                <script type=\"text/javascript\">window.PlotlyConfig = {MathJaxConfig: 'local'};</script>\n",
              "        <script src=\"https://cdn.plot.ly/plotly-latest.min.js\"></script>    \n",
              "            <div id=\"665d2e85-39f1-46c5-ba3c-2dbf87a2290b\" class=\"plotly-graph-div\" style=\"height:525px; width:100%;\"></div>\n",
              "            <script type=\"text/javascript\">\n",
              "                \n",
              "                    window.PLOTLYENV=window.PLOTLYENV || {};\n",
              "                    \n",
              "                if (document.getElementById(\"665d2e85-39f1-46c5-ba3c-2dbf87a2290b\")) {\n",
              "                    Plotly.newPlot(\n",
              "                        '665d2e85-39f1-46c5-ba3c-2dbf87a2290b',\n",
              "                        [{\"hoverlabel\": {\"namelength\": 0}, \"hovertemplate\": \"Diabetes=Non-Diabetic<br>Age=%{x}<br>BloodPressure=%{y}\", \"legendgroup\": \"Diabetes=Non-Diabetic\", \"marker\": {\"color\": \"#636efa\", \"symbol\": \"circle\"}, \"mode\": \"markers\", \"name\": \"Diabetes=Non-Diabetic\", \"showlegend\": true, \"type\": \"scatter\", \"x\": [19, 19, 20, 20, 20, 20, 20, 20, 21, 21, 21, 21, 21, 21, 22, 22, 22, 22, 22, 23, 23, 23, 23, 23, 23, 23, 24, 25, 25, 26, 26, 26, 26, 26, 27, 27, 27, 27, 27, 27, 27, 28, 28, 28, 28, 28, 28, 28, 29, 29, 29, 29, 29, 30, 30, 30, 30, 30, 30, 30, 30, 31, 31, 31, 31, 31, 31, 31, 31, 32, 32, 32, 33, 33, 33, 33, 33, 33, 34, 34, 34, 34, 34, 34, 34, 35, 35, 35, 35, 36, 36, 36, 36, 36, 36, 36, 36, 36, 36, 37, 37, 37, 37, 37, 37, 37, 37, 37, 37, 38, 38, 38, 38, 38, 38, 38, 39, 39, 40, 40, 40, 40, 40, 40, 40, 40, 40, 40, 40, 40, 40, 41, 41, 41, 41, 41, 41, 41, 41, 41, 41, 42, 42, 42, 42, 43, 43, 43, 43, 43, 43, 43, 43, 44, 44, 44, 45, 45, 45, 45, 45, 46, 47, 47, 47, 47, 47, 48, 48, 48, 48, 48, 49, 49, 50, 50, 50, 50, 50, 51, 51, 51, 51, 51, 52, 52, 52, 52, 52, 52, 53, 53, 53, 53, 54, 54, 54, 54, 55, 55, 55, 55, 56, 57, 57, 58, 58, 58, 58, 59, 59, 60, 60, 60, 60, 60, 61, 61, 61, 61, 62, 63, 63, 63, 63, 63, 63, 63, 63, 64, 64, 65, 65, 65, 66, 66, 66, 67, 67, 68, 69, 70, 70, 71, 71, 72, 72, 72, 74, 74, 75, 76, 78, 78, 78, 79, 80, 82, 89, 92], \"xaxis\": \"x\", \"y\": [94, 83, 91, 93, 104, 89, 93, 93, 87, 105, 89, 113, 96, 106, 95, 69, 97, 95, 95, 95, 124, 99, 94, 100, 101, 100, 85, 99, 102, 93, 111, 131, 106, 112, 104, 105, 128, 110, 100, 84, 97, 111, 105, 109, 88, 105, 94, 111, 95, 89, 92, 90, 90, 88, 148, 135, 98, 106, 79, 136, 90, 97, 91, 111, 96, 83, 105, 100, 80, 94, 118, 86, 110, 115, 100, 82, 105, 89, 110, 90, 109, 122, 107, 100, 117, 89, 115, 104, 92, 95, 119, 95, 83, 104, 93, 110, 104, 124, 93, 112, 116, 120, 92, 96, 98, 142, 112, 117, 103, 107, 114, 113, 105, 115, 108, 121, 119, 126, 94, 93, 99, 151, 105, 102, 116, 109, 120, 120, 103, 98, 94, 109, 116, 103, 128, 115, 105, 99, 92, 101, 108, 120, 107, 139, 111, 101, 109, 102, 85, 109, 97, 97, 111, 102, 117, 107, 111, 107, 105, 120, 110, 88, 118, 118, 108, 98, 103, 102, 127, 86, 120, 133, 100, 100, 113, 115, 116, 113, 113, 120, 120, 130, 106, 175, 110, 98, 140, 110, 119, 115, 117, 128, 103, 109, 91, 133, 106, 126, 115, 102, 116, 90, 103, 114, 94, 141, 113, 124, 120, 105, 109, 102, 100, 110, 87, 101, 126, 138, 131, 107, 95, 108, 130, 109, 145, 111, 120, 160, 94, 154, 109, 94, 126, 102, 84, 102, 123, 80, 93, 157, 128, 102, 118, 114, 111, 130, 95, 113, 106, 175, 113, 118, 129, 90, 115, 106, 122, 133, 154, 121], \"yaxis\": \"y\"}, {\"hoverlabel\": {\"namelength\": 0}, \"hovertemplate\": \"Diabetes=Prediabetic<br>Age=%{x}<br>BloodPressure=%{y}\", \"legendgroup\": \"Diabetes=Prediabetic\", \"marker\": {\"color\": \"#EF553B\", \"symbol\": \"circle\"}, \"mode\": \"markers\", \"name\": \"Diabetes=Prediabetic\", \"showlegend\": true, \"type\": \"scatter\", \"x\": [20, 20, 20, 20, 25, 25, 27, 27, 28, 29, 30, 32, 36, 38, 40, 40, 41, 41, 42, 42, 42, 43, 43, 43, 44, 44, 45, 46, 46, 46, 47, 48, 48, 50, 50, 51, 52, 52, 55, 55, 56, 58, 59, 59, 59, 60, 60, 61, 62, 62, 63, 64, 65, 66, 66, 67, 67, 68, 68, 70, 71, 72, 73, 73, 76, 76, 76, 81, 82, 83], \"xaxis\": \"x\", \"y\": [95, 120, 109, 137, 110, 117, 98, 115, 110, 104, 110, 111, 121, 95, 115, 94, 92, 83, 93, 120, 98, 145, 110, 122, 114, 109, 121, 116, 163, 108, 122, 106, 149, 143, 103, 110, 122, 119, 142, 109, 107, 144, 112, 126, 119, 123, 113, 108, 115, 127, 114, 104, 115, 87, 147, 95, 139, 100, 119, 103, 131, 106, 106, 118, 84, 103, 117, 111, 134, 120], \"yaxis\": \"y\"}, {\"hoverlabel\": {\"namelength\": 0}, \"hovertemplate\": \"Diabetes=Diabetic<br>Age=%{x}<br>BloodPressure=%{y}\", \"legendgroup\": \"Diabetes=Diabetic\", \"marker\": {\"color\": \"#00cc96\", \"symbol\": \"circle\"}, \"mode\": \"markers\", \"name\": \"Diabetes=Diabetic\", \"showlegend\": true, \"type\": \"scatter\", \"x\": [26, 29, 31, 35, 36, 36, 37, 38, 38, 38, 40, 43, 44, 45, 45, 47, 49, 49, 50, 50, 50, 51, 51, 53, 53, 54, 55, 56, 56, 57, 58, 59, 59, 59, 60, 60, 60, 61, 61, 62, 62, 63, 63, 64, 64, 65, 65, 66, 66, 68, 70, 71, 74, 75, 76, 78, 79, 80, 84, 91], \"xaxis\": \"x\", \"y\": [120, 95, 113, 114, 92, 113, 110, 85, 85, 109, 93, 87, 112, 140, 141, 124, 124, 110, 129, 113, 102, 104, 128, 119, 116, 102, 98, 75, 125, 91, 97, 104, 115, 110, 102, 132, 89, 145, 129, 111, 134, 150, 133, 98, 118, 111, 120, 119, 108, 110, 124, 115, 129, 119, 110, 106, 130, 130, 116, 126], \"yaxis\": \"y\"}],\n",
              "                        {\"legend\": {\"tracegroupgap\": 0}, \"margin\": {\"t\": 60}, \"template\": {\"data\": {\"bar\": [{\"error_x\": {\"color\": \"#f2f5fa\"}, \"error_y\": {\"color\": \"#f2f5fa\"}, \"marker\": {\"line\": {\"color\": \"rgb(17,17,17)\", \"width\": 0.5}}, \"type\": \"bar\"}], \"barpolar\": [{\"marker\": {\"line\": {\"color\": \"rgb(17,17,17)\", \"width\": 0.5}}, \"type\": \"barpolar\"}], \"carpet\": [{\"aaxis\": {\"endlinecolor\": \"#A2B1C6\", \"gridcolor\": \"#506784\", \"linecolor\": \"#506784\", \"minorgridcolor\": \"#506784\", \"startlinecolor\": \"#A2B1C6\"}, \"baxis\": {\"endlinecolor\": \"#A2B1C6\", \"gridcolor\": \"#506784\", \"linecolor\": \"#506784\", \"minorgridcolor\": \"#506784\", \"startlinecolor\": \"#A2B1C6\"}, \"type\": \"carpet\"}], \"choropleth\": [{\"colorbar\": {\"outlinewidth\": 0, \"ticks\": \"\"}, \"type\": \"choropleth\"}], \"contour\": [{\"colorbar\": {\"outlinewidth\": 0, \"ticks\": \"\"}, \"colorscale\": [[0.0, \"#0d0887\"], [0.1111111111111111, \"#46039f\"], [0.2222222222222222, \"#7201a8\"], [0.3333333333333333, \"#9c179e\"], [0.4444444444444444, \"#bd3786\"], [0.5555555555555556, \"#d8576b\"], [0.6666666666666666, \"#ed7953\"], [0.7777777777777778, \"#fb9f3a\"], [0.8888888888888888, \"#fdca26\"], [1.0, \"#f0f921\"]], \"type\": \"contour\"}], \"contourcarpet\": [{\"colorbar\": {\"outlinewidth\": 0, \"ticks\": \"\"}, \"type\": \"contourcarpet\"}], \"heatmap\": [{\"colorbar\": {\"outlinewidth\": 0, \"ticks\": \"\"}, \"colorscale\": [[0.0, \"#0d0887\"], [0.1111111111111111, \"#46039f\"], [0.2222222222222222, \"#7201a8\"], [0.3333333333333333, \"#9c179e\"], [0.4444444444444444, \"#bd3786\"], [0.5555555555555556, \"#d8576b\"], [0.6666666666666666, \"#ed7953\"], [0.7777777777777778, \"#fb9f3a\"], [0.8888888888888888, \"#fdca26\"], [1.0, \"#f0f921\"]], \"type\": \"heatmap\"}], \"heatmapgl\": [{\"colorbar\": {\"outlinewidth\": 0, \"ticks\": \"\"}, \"colorscale\": [[0.0, \"#0d0887\"], [0.1111111111111111, \"#46039f\"], [0.2222222222222222, \"#7201a8\"], [0.3333333333333333, \"#9c179e\"], [0.4444444444444444, \"#bd3786\"], [0.5555555555555556, \"#d8576b\"], [0.6666666666666666, \"#ed7953\"], [0.7777777777777778, \"#fb9f3a\"], [0.8888888888888888, \"#fdca26\"], [1.0, \"#f0f921\"]], \"type\": \"heatmapgl\"}], \"histogram\": [{\"marker\": {\"colorbar\": {\"outlinewidth\": 0, \"ticks\": \"\"}}, \"type\": \"histogram\"}], \"histogram2d\": [{\"colorbar\": {\"outlinewidth\": 0, \"ticks\": \"\"}, \"colorscale\": [[0.0, \"#0d0887\"], [0.1111111111111111, \"#46039f\"], [0.2222222222222222, \"#7201a8\"], [0.3333333333333333, \"#9c179e\"], [0.4444444444444444, \"#bd3786\"], [0.5555555555555556, \"#d8576b\"], [0.6666666666666666, \"#ed7953\"], [0.7777777777777778, \"#fb9f3a\"], [0.8888888888888888, \"#fdca26\"], [1.0, \"#f0f921\"]], \"type\": \"histogram2d\"}], \"histogram2dcontour\": [{\"colorbar\": {\"outlinewidth\": 0, \"ticks\": \"\"}, \"colorscale\": [[0.0, \"#0d0887\"], [0.1111111111111111, \"#46039f\"], [0.2222222222222222, \"#7201a8\"], [0.3333333333333333, \"#9c179e\"], [0.4444444444444444, \"#bd3786\"], [0.5555555555555556, \"#d8576b\"], [0.6666666666666666, \"#ed7953\"], [0.7777777777777778, \"#fb9f3a\"], [0.8888888888888888, \"#fdca26\"], [1.0, \"#f0f921\"]], \"type\": \"histogram2dcontour\"}], \"mesh3d\": [{\"colorbar\": {\"outlinewidth\": 0, \"ticks\": \"\"}, \"type\": \"mesh3d\"}], \"parcoords\": [{\"line\": {\"colorbar\": {\"outlinewidth\": 0, \"ticks\": \"\"}}, \"type\": \"parcoords\"}], \"pie\": [{\"automargin\": true, \"type\": \"pie\"}], \"scatter\": [{\"marker\": {\"line\": {\"color\": \"#283442\"}}, \"type\": \"scatter\"}], \"scatter3d\": [{\"line\": {\"colorbar\": {\"outlinewidth\": 0, \"ticks\": \"\"}}, \"marker\": {\"colorbar\": {\"outlinewidth\": 0, \"ticks\": \"\"}}, \"type\": \"scatter3d\"}], \"scattercarpet\": [{\"marker\": {\"colorbar\": {\"outlinewidth\": 0, \"ticks\": \"\"}}, \"type\": \"scattercarpet\"}], \"scattergeo\": [{\"marker\": {\"colorbar\": {\"outlinewidth\": 0, \"ticks\": \"\"}}, \"type\": \"scattergeo\"}], \"scattergl\": [{\"marker\": {\"line\": {\"color\": \"#283442\"}}, \"type\": \"scattergl\"}], \"scattermapbox\": [{\"marker\": {\"colorbar\": {\"outlinewidth\": 0, \"ticks\": \"\"}}, \"type\": \"scattermapbox\"}], \"scatterpolar\": [{\"marker\": {\"colorbar\": {\"outlinewidth\": 0, \"ticks\": \"\"}}, \"type\": \"scatterpolar\"}], \"scatterpolargl\": [{\"marker\": {\"colorbar\": {\"outlinewidth\": 0, \"ticks\": \"\"}}, \"type\": \"scatterpolargl\"}], \"scatterternary\": [{\"marker\": {\"colorbar\": {\"outlinewidth\": 0, \"ticks\": \"\"}}, \"type\": \"scatterternary\"}], \"surface\": [{\"colorbar\": {\"outlinewidth\": 0, \"ticks\": \"\"}, \"colorscale\": [[0.0, \"#0d0887\"], [0.1111111111111111, \"#46039f\"], [0.2222222222222222, \"#7201a8\"], [0.3333333333333333, \"#9c179e\"], [0.4444444444444444, \"#bd3786\"], [0.5555555555555556, \"#d8576b\"], [0.6666666666666666, \"#ed7953\"], [0.7777777777777778, \"#fb9f3a\"], [0.8888888888888888, \"#fdca26\"], [1.0, \"#f0f921\"]], \"type\": \"surface\"}], \"table\": [{\"cells\": {\"fill\": {\"color\": \"#506784\"}, \"line\": {\"color\": \"rgb(17,17,17)\"}}, \"header\": {\"fill\": {\"color\": \"#2a3f5f\"}, \"line\": {\"color\": \"rgb(17,17,17)\"}}, \"type\": \"table\"}]}, \"layout\": {\"annotationdefaults\": {\"arrowcolor\": \"#f2f5fa\", \"arrowhead\": 0, \"arrowwidth\": 1}, \"coloraxis\": {\"colorbar\": {\"outlinewidth\": 0, \"ticks\": \"\"}}, \"colorscale\": {\"diverging\": [[0, \"#8e0152\"], [0.1, \"#c51b7d\"], [0.2, \"#de77ae\"], [0.3, \"#f1b6da\"], [0.4, \"#fde0ef\"], [0.5, \"#f7f7f7\"], [0.6, \"#e6f5d0\"], [0.7, \"#b8e186\"], [0.8, \"#7fbc41\"], [0.9, \"#4d9221\"], [1, \"#276419\"]], \"sequential\": [[0.0, \"#0d0887\"], [0.1111111111111111, \"#46039f\"], [0.2222222222222222, \"#7201a8\"], [0.3333333333333333, \"#9c179e\"], [0.4444444444444444, \"#bd3786\"], [0.5555555555555556, \"#d8576b\"], [0.6666666666666666, \"#ed7953\"], [0.7777777777777778, \"#fb9f3a\"], [0.8888888888888888, \"#fdca26\"], [1.0, \"#f0f921\"]], \"sequentialminus\": [[0.0, \"#0d0887\"], [0.1111111111111111, \"#46039f\"], [0.2222222222222222, \"#7201a8\"], [0.3333333333333333, \"#9c179e\"], [0.4444444444444444, \"#bd3786\"], [0.5555555555555556, \"#d8576b\"], [0.6666666666666666, \"#ed7953\"], [0.7777777777777778, \"#fb9f3a\"], [0.8888888888888888, \"#fdca26\"], [1.0, \"#f0f921\"]]}, \"colorway\": [\"#636efa\", \"#EF553B\", \"#00cc96\", \"#ab63fa\", \"#FFA15A\", \"#19d3f3\", \"#FF6692\", \"#B6E880\", \"#FF97FF\", \"#FECB52\"], \"font\": {\"color\": \"#f2f5fa\"}, \"geo\": {\"bgcolor\": \"rgb(17,17,17)\", \"lakecolor\": \"rgb(17,17,17)\", \"landcolor\": \"rgb(17,17,17)\", \"showlakes\": true, \"showland\": true, \"subunitcolor\": \"#506784\"}, \"hoverlabel\": {\"align\": \"left\"}, \"hovermode\": \"closest\", \"mapbox\": {\"style\": \"dark\"}, \"paper_bgcolor\": \"rgb(17,17,17)\", \"plot_bgcolor\": \"rgb(17,17,17)\", \"polar\": {\"angularaxis\": {\"gridcolor\": \"#506784\", \"linecolor\": \"#506784\", \"ticks\": \"\"}, \"bgcolor\": \"rgb(17,17,17)\", \"radialaxis\": {\"gridcolor\": \"#506784\", \"linecolor\": \"#506784\", \"ticks\": \"\"}}, \"scene\": {\"xaxis\": {\"backgroundcolor\": \"rgb(17,17,17)\", \"gridcolor\": \"#506784\", \"gridwidth\": 2, \"linecolor\": \"#506784\", \"showbackground\": true, \"ticks\": \"\", \"zerolinecolor\": \"#C8D4E3\"}, \"yaxis\": {\"backgroundcolor\": \"rgb(17,17,17)\", \"gridcolor\": \"#506784\", \"gridwidth\": 2, \"linecolor\": \"#506784\", \"showbackground\": true, \"ticks\": \"\", \"zerolinecolor\": \"#C8D4E3\"}, \"zaxis\": {\"backgroundcolor\": \"rgb(17,17,17)\", \"gridcolor\": \"#506784\", \"gridwidth\": 2, \"linecolor\": \"#506784\", \"showbackground\": true, \"ticks\": \"\", \"zerolinecolor\": \"#C8D4E3\"}}, \"shapedefaults\": {\"line\": {\"color\": \"#f2f5fa\"}}, \"sliderdefaults\": {\"bgcolor\": \"#C8D4E3\", \"bordercolor\": \"rgb(17,17,17)\", \"borderwidth\": 1, \"tickwidth\": 0}, \"ternary\": {\"aaxis\": {\"gridcolor\": \"#506784\", \"linecolor\": \"#506784\", \"ticks\": \"\"}, \"baxis\": {\"gridcolor\": \"#506784\", \"linecolor\": \"#506784\", \"ticks\": \"\"}, \"bgcolor\": \"rgb(17,17,17)\", \"caxis\": {\"gridcolor\": \"#506784\", \"linecolor\": \"#506784\", \"ticks\": \"\"}}, \"title\": {\"x\": 0.05}, \"updatemenudefaults\": {\"bgcolor\": \"#506784\", \"borderwidth\": 0}, \"xaxis\": {\"automargin\": true, \"gridcolor\": \"#283442\", \"linecolor\": \"#506784\", \"ticks\": \"\", \"title\": {\"standoff\": 15}, \"zerolinecolor\": \"#283442\", \"zerolinewidth\": 2}, \"yaxis\": {\"automargin\": true, \"gridcolor\": \"#283442\", \"linecolor\": \"#506784\", \"ticks\": \"\", \"title\": {\"standoff\": 15}, \"zerolinecolor\": \"#283442\", \"zerolinewidth\": 2}}}, \"title\": {\"text\": \"Age vs Blood Pressure\"}, \"xaxis\": {\"anchor\": \"y\", \"domain\": [0.0, 1.0], \"title\": {\"text\": \"Age\"}}, \"yaxis\": {\"anchor\": \"x\", \"domain\": [0.0, 1.0], \"title\": {\"text\": \"BloodPressure\"}}},\n",
              "                        {\"responsive\": true}\n",
              "                    ).then(function(){\n",
              "                            \n",
              "var gd = document.getElementById('665d2e85-39f1-46c5-ba3c-2dbf87a2290b');\n",
              "var x = new MutationObserver(function (mutations, observer) {{\n",
              "        var display = window.getComputedStyle(gd).display;\n",
              "        if (!display || display === 'none') {{\n",
              "            console.log([gd, 'removed!']);\n",
              "            Plotly.purge(gd);\n",
              "            observer.disconnect();\n",
              "        }}\n",
              "}});\n",
              "\n",
              "// Listen for the removal of the full notebook cells\n",
              "var notebookContainer = gd.closest('#notebook-container');\n",
              "if (notebookContainer) {{\n",
              "    x.observe(notebookContainer, {childList: true});\n",
              "}}\n",
              "\n",
              "// Listen for the clearing of the current output cell\n",
              "var outputEl = gd.closest('.output');\n",
              "if (outputEl) {{\n",
              "    x.observe(outputEl, {childList: true});\n",
              "}}\n",
              "\n",
              "                        })\n",
              "                };\n",
              "                \n",
              "            </script>\n",
              "        </div>\n",
              "</body>\n",
              "</html>"
            ]
          },
          "metadata": {}
        }
      ]
    },
    {
      "cell_type": "markdown",
      "source": [
        "It shows that age does have an affect of blood pressure. \n",
        "As you age, the vascular system changes. This includes your heart and blood vessels. In the blood vessels, there's a reduction in elastic tissue in your arteries, causing them to become stiffer and less compliant. As a result, your blood pressure increases."
      ],
      "metadata": {
        "id": "-ZoESL4cY0Ks"
      }
    },
    {
      "cell_type": "code",
      "source": [
        "fig = px.scatter(df, x=\"Glucose\", y=\"Chol/HDL ratio\", color=\"Diabetes\")\n",
        "fig.update_layout(\n",
        "    template = template, \n",
        "    title = \"Glucose vs Chol/HDL ratio\",\n",
        ")\n",
        "fig.show(renderer=\"colab\")"
      ],
      "metadata": {
        "colab": {
          "base_uri": "https://localhost:8080/",
          "height": 542
        },
        "id": "xMX5h54uXE-P",
        "outputId": "52fcc490-b5b2-4510-a7e9-cefc61585b7e"
      },
      "execution_count": null,
      "outputs": [
        {
          "output_type": "display_data",
          "data": {
            "text/html": [
              "<html>\n",
              "<head><meta charset=\"utf-8\" /></head>\n",
              "<body>\n",
              "    <div>\n",
              "            <script src=\"https://cdnjs.cloudflare.com/ajax/libs/mathjax/2.7.5/MathJax.js?config=TeX-AMS-MML_SVG\"></script><script type=\"text/javascript\">if (window.MathJax) {MathJax.Hub.Config({SVG: {font: \"STIX-Web\"}});}</script>\n",
              "                <script type=\"text/javascript\">window.PlotlyConfig = {MathJaxConfig: 'local'};</script>\n",
              "        <script src=\"https://cdn.plot.ly/plotly-latest.min.js\"></script>    \n",
              "            <div id=\"2565dfd1-35ac-4848-81e1-3453b92ff716\" class=\"plotly-graph-div\" style=\"height:525px; width:100%;\"></div>\n",
              "            <script type=\"text/javascript\">\n",
              "                \n",
              "                    window.PLOTLYENV=window.PLOTLYENV || {};\n",
              "                    \n",
              "                if (document.getElementById(\"2565dfd1-35ac-4848-81e1-3453b92ff716\")) {\n",
              "                    Plotly.newPlot(\n",
              "                        '2565dfd1-35ac-4848-81e1-3453b92ff716',\n",
              "                        [{\"hoverlabel\": {\"namelength\": 0}, \"hovertemplate\": \"Diabetes=Non-Diabetic<br>Glucose=%{x}<br>Chol/HDL ratio=%{y}\", \"legendgroup\": \"Diabetes=Non-Diabetic\", \"marker\": {\"color\": \"#636efa\", \"symbol\": \"circle\"}, \"mode\": \"markers\", \"name\": \"Diabetes=Non-Diabetic\", \"showlegend\": true, \"type\": \"scatter\", \"x\": [77, 79, 75, 97, 91, 69, 77, 71, 99, 84, 88, 84, 89, 75, 76, 70, 81, 75, 81, 91, 86, 78, 91, 75, 76, 86, 66, 87, 98, 58, 90, 83, 79, 60, 76, 75, 92, 94, 62, 77, 92, 94, 74, 99, 69, 77, 96, 83, 77, 88, 69, 71, 97, 74, 82, 77, 81, 74, 84, 92, 75, 69, 92, 83, 77, 89, 77, 85, 91, 81, 85, 90, 83, 87, 85, 82, 84, 93, 70, 65, 94, 88, 71, 85, 90, 86, 80, 85, 97, 82, 83, 71, 76, 92, 81, 74, 78, 85, 81, 75, 89, 64, 67, 52, 86, 85, 91, 87, 88, 85, 90, 86, 81, 95, 88, 90, 83, 85, 56, 98, 83, 72, 76, 77, 92, 79, 92, 84, 74, 87, 85, 78, 79, 64, 80, 84, 84, 76, 86, 59, 73, 73, 77, 81, 81, 84, 74, 85, 76, 87, 84, 87, 84, 84, 67, 87, 71, 80, 92, 87, 83, 82, 81, 65, 95, 82, 90, 74, 85, 87, 81, 89, 87, 75, 91, 78, 67, 88, 91, 85, 89, 82, 81, 79, 68, 97, 83, 85, 83, 57, 78, 94, 74, 84, 76, 87, 79, 96, 94, 93, 74, 89, 95, 81, 80, 92, 85, 94, 48, 97, 95, 92, 56, 82, 90, 90, 91, 94, 85, 86, 95, 92, 54, 80, 82, 87, 95, 88, 91, 81, 90, 95, 97, 67, 82, 76, 92, 93, 85, 77, 68, 74, 97, 70, 85, 83, 76, 71, 92, 88, 79, 82, 80, 81, 98, 91, 92, 88, 90, 94], \"xaxis\": \"x\", \"y\": [3.9, 3.6, 4.0, 3.2, 2.4, 2.7, 3.0, 2.6, 3.9, 2.7, 2.9, 2.9, 2.7, 3.9, 3.6, 4.8, 3.6, 2.6, 2.7, 4.2, 6.2, 3.5, 5.3, 5.0, 3.2, 4.1, 5.1, 3.2, 3.4, 2.2, 3.0, 3.8, 6.2, 3.3, 2.8, 6.6, 4.3, 3.3, 2.9, 2.4, 6.0, 2.8, 3.2, 5.1, 3.7, 2.4, 4.0, 3.3, 3.6, 4.0, 3.4, 3.7, 6.9, 2.5, 3.9, 3.9, 5.1, 4.1, 2.7, 4.8, 4.7, 3.6, 3.2, 2.9, 4.2, 4.9, 2.5, 3.1, 6.9, 2.2, 3.4, 5.2, 4.5, 5.4, 3.1, 3.8, 2.5, 6.1, 3.4, 5.1, 3.6, 5.4, 5.3, 2.8, 4.8, 2.9, 3.9, 5.4, 4.3, 2.8, 5.4, 3.6, 6.4, 4.3, 5.1, 2.4, 3.0, 7.5, 5.4, 5.2, 6.4, 2.6, 4.6, 4.1, 4.6, 3.6, 5.8, 7.7, 5.9, 5.0, 5.4, 4.3, 5.3, 3.5, 3.7, 5.6, 4.1, 3.8, 3.9, 5.3, 4.7, 5.1, 3.9, 4.5, 3.2, 4.0, 5.1, 2.6, 5.8, 5.7, 3.3, 4.3, 4.7, 3.4, 1.9, 2.7, 4.1, 3.8, 3.8, 4.1, 7.9, 6.8, 4.3, 5.5, 3.6, 4.1, 5.8, 3.0, 4.1, 3.5, 4.9, 5.8, 4.3, 6.1, 5.7, 6.1, 2.6, 4.7, 6.0, 3.6, 2.2, 3.6, 3.1, 3.1, 3.0, 4.9, 4.6, 3.8, 5.3, 6.1, 2.3, 3.6, 5.3, 2.6, 3.3, 6.7, 3.1, 3.7, 5.1, 2.8, 5.3, 2.6, 8.9, 4.3, 4.7, 2.5, 2.8, 4.2, 3.0, 2.8, 3.3, 5.6, 6.3, 3.6, 4.3, 3.0, 4.7, 4.2, 3.8, 2.3, 3.3, 6.6, 6.5, 3.1, 3.0, 6.2, 8.7, 7.0, 6.2, 4.7, 3.8, 3.2, 4.6, 4.5, 3.5, 4.0, 3.9, 4.7, 4.9, 3.0, 5.8, 5.3, 3.4, 5.7, 3.1, 2.4, 5.4, 6.2, 4.6, 3.7, 8.9, 3.1, 4.7, 5.2, 2.9, 4.4, 6.9, 6.5, 4.5, 4.5, 4.3, 4.4, 3.7, 2.1, 3.4, 4.9, 5.3, 5.0, 5.5, 5.3, 6.4, 3.4, 2.2, 2.6, 5.1, 6.4, 3.3, 4.9, 2.6, 2.4], \"yaxis\": \"y\"}, {\"hoverlabel\": {\"namelength\": 0}, \"hovertemplate\": \"Diabetes=Prediabetic<br>Glucose=%{x}<br>Chol/HDL ratio=%{y}\", \"legendgroup\": \"Diabetes=Prediabetic\", \"marker\": {\"color\": \"#EF553B\", \"symbol\": \"circle\"}, \"mode\": \"markers\", \"name\": \"Diabetes=Prediabetic\", \"showlegend\": true, \"type\": \"scatter\", \"x\": [112, 105, 105, 106, 101, 104, 100, 100, 111, 101, 124, 101, 119, 118, 103, 105, 112, 106, 101, 101, 122, 100, 109, 120, 101, 101, 109, 107, 102, 108, 120, 117, 105, 115, 115, 110, 101, 120, 103, 122, 110, 106, 113, 108, 112, 102, 119, 103, 102, 109, 119, 100, 106, 120, 104, 125, 121, 118, 111, 111, 115, 120, 106, 118, 100, 112, 113, 121, 112, 105], \"xaxis\": \"x\", \"y\": [3.6, 3.0, 1.5, 3.1, 3.7, 2.9, 4.4, 3.5, 3.6, 4.1, 5.6, 6.8, 9.4, 6.6, 4.8, 3.5, 6.2, 4.0, 3.7, 4.9, 4.1, 4.4, 4.4, 5.3, 6.3, 2.8, 2.5, 5.9, 4.8, 4.6, 6.3, 3.1, 3.2, 3.2, 5.4, 6.0, 3.1, 2.9, 3.0, 3.9, 3.1, 3.8, 5.8, 4.2, 3.0, 5.6, 4.5, 6.8, 6.6, 4.0, 3.9, 7.5, 4.4, 2.7, 4.0, 4.0, 6.5, 4.3, 2.9, 5.8, 3.7, 4.6, 6.4, 5.3, 2.9, 3.0, 3.2, 6.8, 7.5, 5.2], \"yaxis\": \"y\"}, {\"hoverlabel\": {\"namelength\": 0}, \"hovertemplate\": \"Diabetes=Diabetic<br>Glucose=%{x}<br>Chol/HDL ratio=%{y}\", \"legendgroup\": \"Diabetes=Diabetic\", \"marker\": {\"color\": \"#00cc96\", \"symbol\": \"circle\"}, \"mode\": \"markers\", \"name\": \"Diabetes=Diabetic\", \"showlegend\": true, \"type\": \"scatter\", \"x\": [138, 269, 155, 126, 153, 197, 130, 128, 155, 299, 133, 228, 187, 155, 130, 225, 196, 233, 173, 255, 385, 182, 185, 297, 369, 193, 236, 173, 206, 176, 239, 126, 248, 267, 270, 270, 223, 225, 330, 128, 206, 145, 251, 177, 197, 172, 341, 174, 173, 371, 206, 203, 262, 342, 131, 171, 235, 161, 279, 184], \"xaxis\": \"x\", \"y\": [3.0, 5.1, 3.3, 6.8, 2.6, 8.3, 4.1, 6.3, 7.2, 4.7, 7.9, 3.3, 4.5, 5.7, 5.0, 5.6, 4.8, 4.1, 5.1, 7.0, 4.5, 4.0, 19.3, 7.1, 6.4, 10.6, 2.8, 7.1, 12.2, 3.8, 3.2, 4.6, 8.0, 7.6, 2.9, 7.0, 5.3, 7.3, 7.8, 3.3, 4.8, 7.3, 7.1, 7.5, 5.7, 5.7, 6.8, 7.8, 5.5, 3.1, 4.2, 2.8, 4.9, 6.9, 2.5, 6.7, 5.3, 2.9, 4.3, 2.0], \"yaxis\": \"y\"}],\n",
              "                        {\"legend\": {\"tracegroupgap\": 0}, \"margin\": {\"t\": 60}, \"template\": {\"data\": {\"bar\": [{\"error_x\": {\"color\": \"#f2f5fa\"}, \"error_y\": {\"color\": \"#f2f5fa\"}, \"marker\": {\"line\": {\"color\": \"rgb(17,17,17)\", \"width\": 0.5}}, \"type\": \"bar\"}], \"barpolar\": [{\"marker\": {\"line\": {\"color\": \"rgb(17,17,17)\", \"width\": 0.5}}, \"type\": \"barpolar\"}], \"carpet\": [{\"aaxis\": {\"endlinecolor\": \"#A2B1C6\", \"gridcolor\": \"#506784\", \"linecolor\": \"#506784\", \"minorgridcolor\": \"#506784\", \"startlinecolor\": \"#A2B1C6\"}, \"baxis\": {\"endlinecolor\": \"#A2B1C6\", \"gridcolor\": \"#506784\", \"linecolor\": \"#506784\", \"minorgridcolor\": \"#506784\", \"startlinecolor\": \"#A2B1C6\"}, \"type\": \"carpet\"}], \"choropleth\": [{\"colorbar\": {\"outlinewidth\": 0, \"ticks\": \"\"}, \"type\": \"choropleth\"}], \"contour\": [{\"colorbar\": {\"outlinewidth\": 0, \"ticks\": \"\"}, \"colorscale\": [[0.0, \"#0d0887\"], [0.1111111111111111, \"#46039f\"], [0.2222222222222222, \"#7201a8\"], [0.3333333333333333, \"#9c179e\"], [0.4444444444444444, \"#bd3786\"], [0.5555555555555556, \"#d8576b\"], [0.6666666666666666, \"#ed7953\"], [0.7777777777777778, \"#fb9f3a\"], [0.8888888888888888, \"#fdca26\"], [1.0, \"#f0f921\"]], \"type\": \"contour\"}], \"contourcarpet\": [{\"colorbar\": {\"outlinewidth\": 0, \"ticks\": \"\"}, \"type\": \"contourcarpet\"}], \"heatmap\": [{\"colorbar\": {\"outlinewidth\": 0, \"ticks\": \"\"}, \"colorscale\": [[0.0, \"#0d0887\"], [0.1111111111111111, \"#46039f\"], [0.2222222222222222, \"#7201a8\"], [0.3333333333333333, \"#9c179e\"], [0.4444444444444444, \"#bd3786\"], [0.5555555555555556, \"#d8576b\"], [0.6666666666666666, \"#ed7953\"], [0.7777777777777778, \"#fb9f3a\"], [0.8888888888888888, \"#fdca26\"], [1.0, \"#f0f921\"]], \"type\": \"heatmap\"}], \"heatmapgl\": [{\"colorbar\": {\"outlinewidth\": 0, \"ticks\": \"\"}, \"colorscale\": [[0.0, \"#0d0887\"], [0.1111111111111111, \"#46039f\"], [0.2222222222222222, \"#7201a8\"], [0.3333333333333333, \"#9c179e\"], [0.4444444444444444, \"#bd3786\"], [0.5555555555555556, \"#d8576b\"], [0.6666666666666666, \"#ed7953\"], [0.7777777777777778, \"#fb9f3a\"], [0.8888888888888888, \"#fdca26\"], [1.0, \"#f0f921\"]], \"type\": \"heatmapgl\"}], \"histogram\": [{\"marker\": {\"colorbar\": {\"outlinewidth\": 0, \"ticks\": \"\"}}, \"type\": \"histogram\"}], \"histogram2d\": [{\"colorbar\": {\"outlinewidth\": 0, \"ticks\": \"\"}, \"colorscale\": [[0.0, \"#0d0887\"], [0.1111111111111111, \"#46039f\"], [0.2222222222222222, \"#7201a8\"], [0.3333333333333333, \"#9c179e\"], [0.4444444444444444, \"#bd3786\"], [0.5555555555555556, \"#d8576b\"], [0.6666666666666666, \"#ed7953\"], [0.7777777777777778, \"#fb9f3a\"], [0.8888888888888888, \"#fdca26\"], [1.0, \"#f0f921\"]], \"type\": \"histogram2d\"}], \"histogram2dcontour\": [{\"colorbar\": {\"outlinewidth\": 0, \"ticks\": \"\"}, \"colorscale\": [[0.0, \"#0d0887\"], [0.1111111111111111, \"#46039f\"], [0.2222222222222222, \"#7201a8\"], [0.3333333333333333, \"#9c179e\"], [0.4444444444444444, \"#bd3786\"], [0.5555555555555556, \"#d8576b\"], [0.6666666666666666, \"#ed7953\"], [0.7777777777777778, \"#fb9f3a\"], [0.8888888888888888, \"#fdca26\"], [1.0, \"#f0f921\"]], \"type\": \"histogram2dcontour\"}], \"mesh3d\": [{\"colorbar\": {\"outlinewidth\": 0, \"ticks\": \"\"}, \"type\": \"mesh3d\"}], \"parcoords\": [{\"line\": {\"colorbar\": {\"outlinewidth\": 0, \"ticks\": \"\"}}, \"type\": \"parcoords\"}], \"pie\": [{\"automargin\": true, \"type\": \"pie\"}], \"scatter\": [{\"marker\": {\"line\": {\"color\": \"#283442\"}}, \"type\": \"scatter\"}], \"scatter3d\": [{\"line\": {\"colorbar\": {\"outlinewidth\": 0, \"ticks\": \"\"}}, \"marker\": {\"colorbar\": {\"outlinewidth\": 0, \"ticks\": \"\"}}, \"type\": \"scatter3d\"}], \"scattercarpet\": [{\"marker\": {\"colorbar\": {\"outlinewidth\": 0, \"ticks\": \"\"}}, \"type\": \"scattercarpet\"}], \"scattergeo\": [{\"marker\": {\"colorbar\": {\"outlinewidth\": 0, \"ticks\": \"\"}}, \"type\": \"scattergeo\"}], \"scattergl\": [{\"marker\": {\"line\": {\"color\": \"#283442\"}}, \"type\": \"scattergl\"}], \"scattermapbox\": [{\"marker\": {\"colorbar\": {\"outlinewidth\": 0, \"ticks\": \"\"}}, \"type\": \"scattermapbox\"}], \"scatterpolar\": [{\"marker\": {\"colorbar\": {\"outlinewidth\": 0, \"ticks\": \"\"}}, \"type\": \"scatterpolar\"}], \"scatterpolargl\": [{\"marker\": {\"colorbar\": {\"outlinewidth\": 0, \"ticks\": \"\"}}, \"type\": \"scatterpolargl\"}], \"scatterternary\": [{\"marker\": {\"colorbar\": {\"outlinewidth\": 0, \"ticks\": \"\"}}, \"type\": \"scatterternary\"}], \"surface\": [{\"colorbar\": {\"outlinewidth\": 0, \"ticks\": \"\"}, \"colorscale\": [[0.0, \"#0d0887\"], [0.1111111111111111, \"#46039f\"], [0.2222222222222222, \"#7201a8\"], [0.3333333333333333, \"#9c179e\"], [0.4444444444444444, \"#bd3786\"], [0.5555555555555556, \"#d8576b\"], [0.6666666666666666, \"#ed7953\"], [0.7777777777777778, \"#fb9f3a\"], [0.8888888888888888, \"#fdca26\"], [1.0, \"#f0f921\"]], \"type\": \"surface\"}], \"table\": [{\"cells\": {\"fill\": {\"color\": \"#506784\"}, \"line\": {\"color\": \"rgb(17,17,17)\"}}, \"header\": {\"fill\": {\"color\": \"#2a3f5f\"}, \"line\": {\"color\": \"rgb(17,17,17)\"}}, \"type\": \"table\"}]}, \"layout\": {\"annotationdefaults\": {\"arrowcolor\": \"#f2f5fa\", \"arrowhead\": 0, \"arrowwidth\": 1}, \"coloraxis\": {\"colorbar\": {\"outlinewidth\": 0, \"ticks\": \"\"}}, \"colorscale\": {\"diverging\": [[0, \"#8e0152\"], [0.1, \"#c51b7d\"], [0.2, \"#de77ae\"], [0.3, \"#f1b6da\"], [0.4, \"#fde0ef\"], [0.5, \"#f7f7f7\"], [0.6, \"#e6f5d0\"], [0.7, \"#b8e186\"], [0.8, \"#7fbc41\"], [0.9, \"#4d9221\"], [1, \"#276419\"]], \"sequential\": [[0.0, \"#0d0887\"], [0.1111111111111111, \"#46039f\"], [0.2222222222222222, \"#7201a8\"], [0.3333333333333333, \"#9c179e\"], [0.4444444444444444, \"#bd3786\"], [0.5555555555555556, \"#d8576b\"], [0.6666666666666666, \"#ed7953\"], [0.7777777777777778, \"#fb9f3a\"], [0.8888888888888888, \"#fdca26\"], [1.0, \"#f0f921\"]], \"sequentialminus\": [[0.0, \"#0d0887\"], [0.1111111111111111, \"#46039f\"], [0.2222222222222222, \"#7201a8\"], [0.3333333333333333, \"#9c179e\"], [0.4444444444444444, \"#bd3786\"], [0.5555555555555556, \"#d8576b\"], [0.6666666666666666, \"#ed7953\"], [0.7777777777777778, \"#fb9f3a\"], [0.8888888888888888, \"#fdca26\"], [1.0, \"#f0f921\"]]}, \"colorway\": [\"#636efa\", \"#EF553B\", \"#00cc96\", \"#ab63fa\", \"#FFA15A\", \"#19d3f3\", \"#FF6692\", \"#B6E880\", \"#FF97FF\", \"#FECB52\"], \"font\": {\"color\": \"#f2f5fa\"}, \"geo\": {\"bgcolor\": \"rgb(17,17,17)\", \"lakecolor\": \"rgb(17,17,17)\", \"landcolor\": \"rgb(17,17,17)\", \"showlakes\": true, \"showland\": true, \"subunitcolor\": \"#506784\"}, \"hoverlabel\": {\"align\": \"left\"}, \"hovermode\": \"closest\", \"mapbox\": {\"style\": \"dark\"}, \"paper_bgcolor\": \"rgb(17,17,17)\", \"plot_bgcolor\": \"rgb(17,17,17)\", \"polar\": {\"angularaxis\": {\"gridcolor\": \"#506784\", \"linecolor\": \"#506784\", \"ticks\": \"\"}, \"bgcolor\": \"rgb(17,17,17)\", \"radialaxis\": {\"gridcolor\": \"#506784\", \"linecolor\": \"#506784\", \"ticks\": \"\"}}, \"scene\": {\"xaxis\": {\"backgroundcolor\": \"rgb(17,17,17)\", \"gridcolor\": \"#506784\", \"gridwidth\": 2, \"linecolor\": \"#506784\", \"showbackground\": true, \"ticks\": \"\", \"zerolinecolor\": \"#C8D4E3\"}, \"yaxis\": {\"backgroundcolor\": \"rgb(17,17,17)\", \"gridcolor\": \"#506784\", \"gridwidth\": 2, \"linecolor\": \"#506784\", \"showbackground\": true, \"ticks\": \"\", \"zerolinecolor\": \"#C8D4E3\"}, \"zaxis\": {\"backgroundcolor\": \"rgb(17,17,17)\", \"gridcolor\": \"#506784\", \"gridwidth\": 2, \"linecolor\": \"#506784\", \"showbackground\": true, \"ticks\": \"\", \"zerolinecolor\": \"#C8D4E3\"}}, \"shapedefaults\": {\"line\": {\"color\": \"#f2f5fa\"}}, \"sliderdefaults\": {\"bgcolor\": \"#C8D4E3\", \"bordercolor\": \"rgb(17,17,17)\", \"borderwidth\": 1, \"tickwidth\": 0}, \"ternary\": {\"aaxis\": {\"gridcolor\": \"#506784\", \"linecolor\": \"#506784\", \"ticks\": \"\"}, \"baxis\": {\"gridcolor\": \"#506784\", \"linecolor\": \"#506784\", \"ticks\": \"\"}, \"bgcolor\": \"rgb(17,17,17)\", \"caxis\": {\"gridcolor\": \"#506784\", \"linecolor\": \"#506784\", \"ticks\": \"\"}}, \"title\": {\"x\": 0.05}, \"updatemenudefaults\": {\"bgcolor\": \"#506784\", \"borderwidth\": 0}, \"xaxis\": {\"automargin\": true, \"gridcolor\": \"#283442\", \"linecolor\": \"#506784\", \"ticks\": \"\", \"title\": {\"standoff\": 15}, \"zerolinecolor\": \"#283442\", \"zerolinewidth\": 2}, \"yaxis\": {\"automargin\": true, \"gridcolor\": \"#283442\", \"linecolor\": \"#506784\", \"ticks\": \"\", \"title\": {\"standoff\": 15}, \"zerolinecolor\": \"#283442\", \"zerolinewidth\": 2}}}, \"title\": {\"text\": \"Glucose vs Chol/HDL ratio\"}, \"xaxis\": {\"anchor\": \"y\", \"domain\": [0.0, 1.0], \"title\": {\"text\": \"Glucose\"}}, \"yaxis\": {\"anchor\": \"x\", \"domain\": [0.0, 1.0], \"title\": {\"text\": \"Chol/HDL ratio\"}}},\n",
              "                        {\"responsive\": true}\n",
              "                    ).then(function(){\n",
              "                            \n",
              "var gd = document.getElementById('2565dfd1-35ac-4848-81e1-3453b92ff716');\n",
              "var x = new MutationObserver(function (mutations, observer) {{\n",
              "        var display = window.getComputedStyle(gd).display;\n",
              "        if (!display || display === 'none') {{\n",
              "            console.log([gd, 'removed!']);\n",
              "            Plotly.purge(gd);\n",
              "            observer.disconnect();\n",
              "        }}\n",
              "}});\n",
              "\n",
              "// Listen for the removal of the full notebook cells\n",
              "var notebookContainer = gd.closest('#notebook-container');\n",
              "if (notebookContainer) {{\n",
              "    x.observe(notebookContainer, {childList: true});\n",
              "}}\n",
              "\n",
              "// Listen for the clearing of the current output cell\n",
              "var outputEl = gd.closest('.output');\n",
              "if (outputEl) {{\n",
              "    x.observe(outputEl, {childList: true});\n",
              "}}\n",
              "\n",
              "                        })\n",
              "                };\n",
              "                \n",
              "            </script>\n",
              "        </div>\n",
              "</body>\n",
              "</html>"
            ]
          },
          "metadata": {}
        }
      ]
    },
    {
      "cell_type": "markdown",
      "source": [
        "This also shows a clear seperation which doesn't indicate any correlation. Outliers have also affect the correlation."
      ],
      "metadata": {
        "id": "jgirwW6Zy_BL"
      }
    },
    {
      "cell_type": "markdown",
      "source": [
        "Based on extensive research beyond the data, we came to a conclusion of which feature we will be using the model building phase.\n",
        "\n",
        "#### Features to be used:\n",
        "* Glucose\n",
        "* Chol/HDL ratio \n",
        "* Age\n",
        "* Systolic BP\n",
        "* Waist/hip ratio"
      ],
      "metadata": {
        "id": "aPyzk8Ljv8SM"
      }
    },
    {
      "cell_type": "markdown",
      "source": [
        "## Model Building\n",
        "----\n",
        "As stated in the beginning, we will be using an online machine learning model.\n",
        "Our aim is make sure that the model is able to predict all three classes.\n",
        "\n",
        "**Note:** The model that will be used was chosen based evaluating previous batch machine learning models. The online machine learning models follow the same methodology as batch learning models but online learning models can be trained continuously and has a model drift feature that allows them to perform better.\n",
        "\n",
        "#### Model Drift\n",
        "----\n",
        "Model drift refers to the degradation of model performance due to changes in data and relationships between input and output variables."
      ],
      "metadata": {
        "id": "13fgXG3KjW3V"
      }
    },
    {
      "cell_type": "code",
      "metadata": {
        "id": "dz6znN1bWn6H"
      },
      "source": [
        "X = df[[\n",
        "    'Glucose', 'Chol/HDL ratio', 'Age', 'Systolic BP', 'Waist/hip ratio'\n",
        "]]\n",
        "\n",
        "y = df['Diabetes']"
      ],
      "execution_count": null,
      "outputs": []
    },
    {
      "cell_type": "code",
      "metadata": {
        "id": "m8LC0JvsWn6I"
      },
      "source": [
        "x_train, x_test, y_train, y_test = train_test_split(x, y, test_size = 0.25, random_state = 42)"
      ],
      "execution_count": null,
      "outputs": []
    },
    {
      "cell_type": "markdown",
      "metadata": {
        "id": "XDuxIHJhWn6J"
      },
      "source": [
        "### Adaptive Random Forest\n",
        "----\n",
        "Adaptive Random Forest is an adaptation of the original Random Forest algorithm, which has been successfully applied to a multitude of machine learning tasks. \n",
        "\n",
        "In layman’s terms the original Random Forest algorithm is an ensemble of decision trees, which are trained using bagging and where the node splits are limited to a random subset of the original set of features. The \"Adaptive\" part of ARF comes from its mechanisms to adapt to different kinds of concept drifts, given the same hyper-parameters."
      ]
    },
    {
      "cell_type": "code",
      "metadata": {
        "id": "wG_bpvnCWn6J"
      },
      "source": [
        "rf = AdaptiveRandomForestClassifier()"
      ],
      "execution_count": null,
      "outputs": []
    },
    {
      "cell_type": "code",
      "metadata": {
        "id": "VfdgPAVJWn6J"
      },
      "source": [
        "for x, y in stream.iter_pandas(x_train, y_train):\n",
        "    rf = rf.learn_one(x, y)"
      ],
      "execution_count": null,
      "outputs": []
    },
    {
      "cell_type": "markdown",
      "source": [
        "The model trains on one observation at the time, this is a concept called streaming data. It is the ideal method of retraining the model on new observations in productions."
      ],
      "metadata": {
        "id": "tLd1fAxupFjR"
      }
    },
    {
      "cell_type": "code",
      "metadata": {
        "id": "nZQQ0kMeWn6K"
      },
      "source": [
        "ypred = []\n",
        "y_test_data = []\n",
        "for x, y in stream.iter_pandas(x_test, y_test):\n",
        "    ypred.append(rf.predict_one(x))\n",
        "    y_test_data.append(y)"
      ],
      "execution_count": null,
      "outputs": []
    },
    {
      "cell_type": "code",
      "metadata": {
        "id": "cNQUHllWWn6K"
      },
      "source": [
        "report = ClassificationReport()"
      ],
      "execution_count": null,
      "outputs": []
    },
    {
      "cell_type": "code",
      "metadata": {
        "id": "R7LijgQRWn6K"
      },
      "source": [
        "for yt, yp in zip(y_test_data, ypred):\n",
        "    report = report.update(yt, yp)"
      ],
      "execution_count": null,
      "outputs": []
    },
    {
      "cell_type": "code",
      "metadata": {
        "id": "Ywz_RV83Wn6K",
        "outputId": "78c9bf28-9590-44eb-ca33-6e22096681ed"
      },
      "source": [
        "report"
      ],
      "execution_count": null,
      "outputs": [
        {
          "data": {
            "text/plain": [
              "               Precision   Recall   F1      Support  \n",
              "                                                     \n",
              "    Diabetic       1.000    0.952   0.976        21  \n",
              "Non-Diabetic       0.914    1.000   0.955        64  \n",
              " Prediabetic       0.875    0.538   0.667        13  \n",
              "                                                     \n",
              "       Macro       0.930    0.830   0.866            \n",
              "       Micro       0.929    0.929   0.929            \n",
              "    Weighted       0.927    0.929   0.921            \n",
              "\n",
              "                   92.9% accuracy                    "
            ]
          },
          "execution_count": 97,
          "metadata": {},
          "output_type": "execute_result"
        }
      ]
    },
    {
      "cell_type": "markdown",
      "source": [
        "The model was able to predict all three classes and performed extremely well based on the small amount of observations proved."
      ],
      "metadata": {
        "id": "9vK-r5TRskjy"
      }
    },
    {
      "cell_type": "code",
      "metadata": {
        "id": "WjACCNc3Wn6K"
      },
      "source": [
        "cm = metrics.ConfusionMatrix()"
      ],
      "execution_count": null,
      "outputs": []
    },
    {
      "cell_type": "code",
      "metadata": {
        "id": "0MPA9OAAWn6K"
      },
      "source": [
        "for yt, yp in zip(y_test_data, ypred):\n",
        "    cm = cm.update(yt, yp)"
      ],
      "execution_count": null,
      "outputs": []
    },
    {
      "cell_type": "code",
      "metadata": {
        "id": "haWRfbJ5Wn6L",
        "outputId": "0c27b76a-8f7f-4832-faff-48db0af7fcd3"
      },
      "source": [
        "cm"
      ],
      "execution_count": null,
      "outputs": [
        {
          "data": {
            "text/plain": [
              "                    Diabetic  Non-Diabetic   Prediabetic\n",
              "      Diabetic            20             0             1\n",
              "  Non-Diabetic             0            64             0\n",
              "   Prediabetic             0             6             7"
            ]
          },
          "execution_count": 100,
          "metadata": {},
          "output_type": "execute_result"
        }
      ]
    },
    {
      "cell_type": "markdown",
      "source": [
        "The reason for the model predicting a few observation inaccurately is because some observations were similar that it was difficult to distinguish them. But as the model is trained on new observations, it will have clarity on how to distinguish them.\n",
        "\n",
        "Now we pickle the model."
      ],
      "metadata": {
        "id": "EJ0W1NGRs3ef"
      }
    },
    {
      "cell_type": "code",
      "metadata": {
        "id": "KpLHIC7jWn6L"
      },
      "source": [
        "with open('model.pkl', 'wb') as f:\n",
        "    pickle.dump(rf, f)"
      ],
      "execution_count": null,
      "outputs": []
    },
    {
      "cell_type": "code",
      "metadata": {
        "id": "hzcASMLYWn6L"
      },
      "source": [
        "f.close()"
      ],
      "execution_count": null,
      "outputs": []
    },
    {
      "cell_type": "markdown",
      "source": [
        "## Conclusion\n",
        "----\n",
        "Finding a way to assist medical professionals to detect early signs of diabetes but using a machine learning model to predict the current state of a patient. This model can be deployed into a web application and helps patients identify their current state based on their current medical records. \n",
        "\n",
        "Pre-diabetes is the entry point of patients developing diabetes therefore patients who got a predict of pre-diabetes can take measures before complications occurs that can leave them in a weakened state."
      ],
      "metadata": {
        "id": "Gtvnsz-krY2D"
      }
    }
  ]
}